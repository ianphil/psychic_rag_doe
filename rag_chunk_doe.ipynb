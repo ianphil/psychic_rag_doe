{
 "cells": [
  {
   "cell_type": "markdown",
   "id": "4c66d3ac-79d1-4c9f-9e28-80a62422d440",
   "metadata": {},
   "source": [
    "# Start of the DOE\n",
    "Download [openai-cookbook](https://github.com/openai/openai-cookbook/archive/refs/heads/main.zip)\n"
   ]
  },
  {
   "cell_type": "code",
   "execution_count": 1,
   "id": "77b3d291-61e8-4a44-9215-9454085b05f3",
   "metadata": {},
   "outputs": [
    {
     "data": {
      "text/plain": [
       "34"
      ]
     },
     "execution_count": 1,
     "metadata": {},
     "output_type": "execute_result"
    }
   ],
   "source": [
    "import glob\n",
    "md_files = glob.glob(\"data/openai-cookbook-main/**/*.md\", recursive=True)\n",
    "len(md_files)"
   ]
  },
  {
   "cell_type": "code",
   "execution_count": 2,
   "id": "683c417f-b600-461b-aacb-66ed49f551da",
   "metadata": {},
   "outputs": [
    {
     "data": {
      "text/plain": [
       "34"
      ]
     },
     "execution_count": 2,
     "metadata": {},
     "output_type": "execute_result"
    }
   ],
   "source": [
    "docs = []\n",
    "for path in md_files:\n",
    "    with open(path, 'r', encoding='utf-8') as f:\n",
    "        docs.append(f.read())\n",
    "len(docs)"
   ]
  },
  {
   "cell_type": "code",
   "execution_count": 3,
   "id": "f8446fa1-7b94-4a79-99c3-60dcbf63b3c1",
   "metadata": {},
   "outputs": [
    {
     "name": "stderr",
     "output_type": "stream",
     "text": [
      "/Users/ianphil/src/psychic_rag_doe/.venv/lib/python3.11/site-packages/tqdm/auto.py:21: TqdmWarning: IProgress not found. Please update jupyter and ipywidgets. See https://ipywidgets.readthedocs.io/en/stable/user_install.html\n",
      "  from .autonotebook import tqdm as notebook_tqdm\n",
      "None of PyTorch, TensorFlow >= 2.0, or Flax have been found. Models won't be available and only tokenizers, configuration and file/data utilities can be used.\n"
     ]
    }
   ],
   "source": [
    "from transformers import GPT2TokenizerFast\n",
    "tokenizer = GPT2TokenizerFast.from_pretrained(\"gpt2\")\n",
    "\n",
    "def chunk_text(text, chunk_size):\n",
    "    tokens = tokenizer.encode(text)\n",
    "    chunks = [\n",
    "        tokenizer.decode(tokens[i:i+chunk_size])\n",
    "        for i in range(0, len(tokens), chunk_size)\n",
    "    ]\n",
    "    return chunks\n"
   ]
  },
  {
   "cell_type": "code",
   "execution_count": 4,
   "id": "07a306f8-17d3-4098-8cce-3c592a5ccc3e",
   "metadata": {},
   "outputs": [
    {
     "name": "stderr",
     "output_type": "stream",
     "text": [
      "Token indices sequence length is longer than the specified maximum sequence length for this model (2110 > 1024). Running this sequence through the model will result in indexing errors\n"
     ]
    },
    {
     "name": "stdout",
     "output_type": "stream",
     "text": [
      "22 chunks at 100 tokens\n",
      "5 chunks at 500 tokens\n"
     ]
    }
   ],
   "source": [
    "sample = docs[2]\n",
    "print(len(chunk_text(sample, 100)), \"chunks at 100 tokens\")\n",
    "print(len(chunk_text(sample, 500)), \"chunks at 500 tokens\")\n"
   ]
  },
  {
   "cell_type": "code",
   "execution_count": 5,
   "id": "158fbec7-fb34-4fc9-8a67-f34e2b11879e",
   "metadata": {},
   "outputs": [],
   "source": [
    "from dotenv import load_dotenv\n",
    "import os\n",
    "from openai import OpenAI\n",
    "\n",
    "# Load all vars from .env into os.environ\n",
    "load_dotenv()\n",
    "\n",
    "client = OpenAI(api_key=os.getenv(\"OPENAI_API_KEY\"))\n",
    "chunk_embeds = {}\n",
    "sizes = [100, 250, 500, 1000]"
   ]
  },
  {
   "cell_type": "code",
   "execution_count": 6,
   "id": "c4822de6-e452-465c-8708-d968b95f43c1",
   "metadata": {},
   "outputs": [
    {
     "data": {
      "text/plain": [
       "34"
      ]
     },
     "execution_count": 6,
     "metadata": {},
     "output_type": "execute_result"
    }
   ],
   "source": [
    "len(docs)"
   ]
  },
  {
   "cell_type": "code",
   "execution_count": 8,
   "id": "d8428e27-f721-46d7-a8c8-365c45ae91e9",
   "metadata": {},
   "outputs": [
    {
     "name": "stderr",
     "output_type": "stream",
     "text": [
      "huggingface/tokenizers: The current process just got forked, after parallelism has already been used. Disabling parallelism to avoid deadlocks...\n",
      "To disable this warning, you can either:\n",
      "\t- Avoid using `tokenizers` before the fork if possible\n",
      "\t- Explicitly set the environment variable TOKENIZERS_PARALLELISM=(true | false)\n"
     ]
    },
    {
     "name": "stdout",
     "output_type": "stream",
     "text": [
      "\n",
      "👉 Embedding for chunk size: 100\n"
     ]
    },
    {
     "name": "stderr",
     "output_type": "stream",
     "text": [
      "Size 100: 100%|██████████████████████████████████████████████████████████████████████████████████████████████| 4/4 [00:01<00:00,  3.68chk/s]\n",
      "Size 100: 100%|██████████████████████████████████████████████████████████████████████████████████████████████| 1/1 [00:00<00:00,  6.06chk/s]\n",
      "Size 100: 100%|████████████████████████████████████████████████████████████████████████████████████████████| 22/22 [00:04<00:00,  4.74chk/s]\n",
      "Size 100: 100%|████████████████████████████████████████████████████████████████████████████████████████████| 10/10 [00:04<00:00,  2.27chk/s]\n",
      "Size 100: 100%|████████████████████████████████████████████████████████████████████████████████████████████| 21/21 [00:04<00:00,  4.26chk/s]\n",
      "Size 100: 100%|████████████████████████████████████████████████████████████████████████████████████████████| 25/25 [00:05<00:00,  4.57chk/s]\n",
      "Size 100: 100%|██████████████████████████████████████████████████████████████████████████████████████████| 117/117 [00:26<00:00,  4.44chk/s]\n",
      "Size 100: 100%|██████████████████████████████████████████████████████████████████████████████████████████████| 8/8 [00:02<00:00,  3.85chk/s]\n",
      "Size 100: 100%|██████████████████████████████████████████████████████████████████████████████████████████████| 5/5 [00:00<00:00,  5.67chk/s]\n",
      "Size 100: 100%|████████████████████████████████████████████████████████████████████████████████████████████| 31/31 [00:08<00:00,  3.82chk/s]\n",
      "Size 100: 100%|██████████████████████████████████████████████████████████████████████████████████████████████| 7/7 [00:01<00:00,  3.80chk/s]\n",
      "Size 100: 100%|██████████████████████████████████████████████████████████████████████████████████████████████| 2/2 [00:00<00:00,  4.86chk/s]\n",
      "Size 100: 100%|██████████████████████████████████████████████████████████████████████████████████████████████| 7/7 [00:02<00:00,  3.38chk/s]\n",
      "Size 100: 100%|██████████████████████████████████████████████████████████████████████████████████████████████| 7/7 [00:01<00:00,  4.43chk/s]\n",
      "Size 100: 100%|██████████████████████████████████████████████████████████████████████████████████████████████| 8/8 [00:01<00:00,  4.28chk/s]\n",
      "Size 100: 100%|██████████████████████████████████████████████████████████████████████████████████████████████| 9/9 [00:01<00:00,  4.76chk/s]\n",
      "Size 100: 100%|██████████████████████████████████████████████████████████████████████████████████████████████| 8/8 [00:01<00:00,  4.65chk/s]\n",
      "Size 100: 100%|██████████████████████████████████████████████████████████████████████████████████████████████| 5/5 [00:00<00:00,  5.69chk/s]\n",
      "Size 100: 100%|██████████████████████████████████████████████████████████████████████████████████████████████| 4/4 [00:01<00:00,  3.14chk/s]\n",
      "Size 100: 100%|████████████████████████████████████████████████████████████████████████████████████████████| 43/43 [00:10<00:00,  4.12chk/s]\n",
      "Size 100: 100%|██████████████████████████████████████████████████████████████████████████████████████████| 157/157 [00:37<00:00,  4.15chk/s]\n",
      "Size 100: 100%|████████████████████████████████████████████████████████████████████████████████████████████| 68/68 [00:15<00:00,  4.36chk/s]\n",
      "Size 100: 100%|████████████████████████████████████████████████████████████████████████████████████████████| 69/69 [00:15<00:00,  4.38chk/s]\n",
      "Size 100: 100%|████████████████████████████████████████████████████████████████████████████████████████████| 17/17 [00:03<00:00,  4.63chk/s]\n",
      "Size 100: 100%|████████████████████████████████████████████████████████████████████████████████████████████| 33/33 [00:06<00:00,  4.79chk/s]\n",
      "Size 100: 100%|██████████████████████████████████████████████████████████████████████████████████████████| 114/114 [00:25<00:00,  4.47chk/s]\n",
      "Size 100: 100%|████████████████████████████████████████████████████████████████████████████████████████████| 10/10 [00:01<00:00,  5.01chk/s]\n",
      "Size 100: 100%|████████████████████████████████████████████████████████████████████████████████████████████| 72/72 [00:16<00:00,  4.37chk/s]\n",
      "Size 100: 100%|████████████████████████████████████████████████████████████████████████████████████████████| 27/27 [00:06<00:00,  4.02chk/s]\n",
      "Size 100: 100%|██████████████████████████████████████████████████████████████████████████████████████████████| 8/8 [00:01<00:00,  5.44chk/s]\n",
      "Size 100: 100%|██████████████████████████████████████████████████████████████████████████████████████████████| 7/7 [00:01<00:00,  4.34chk/s]\n",
      "Size 100: 100%|██████████████████████████████████████████████████████████████████████████████████████████████| 7/7 [00:01<00:00,  4.65chk/s]\n",
      "Size 100: 100%|████████████████████████████████████████████████████████████████████████████████████████████| 35/35 [00:07<00:00,  4.86chk/s]\n",
      "Size 100: 100%|████████████████████████████████████████████████████████████████████████████████████████████| 15/15 [00:03<00:00,  3.91chk/s]\n"
     ]
    },
    {
     "name": "stdout",
     "output_type": "stream",
     "text": [
      "✅ Finished size 100\n",
      "\n",
      "👉 Embedding for chunk size: 250\n"
     ]
    },
    {
     "name": "stderr",
     "output_type": "stream",
     "text": [
      "Size 250: 100%|██████████████████████████████████████████████████████████████████████████████████████████████| 2/2 [00:00<00:00,  5.20chk/s]\n",
      "Size 250: 100%|██████████████████████████████████████████████████████████████████████████████████████████████| 1/1 [00:00<00:00,  7.62chk/s]\n",
      "Size 250: 100%|██████████████████████████████████████████████████████████████████████████████████████████████| 9/9 [00:01<00:00,  4.82chk/s]\n",
      "Size 250: 100%|██████████████████████████████████████████████████████████████████████████████████████████████| 4/4 [00:00<00:00,  5.55chk/s]\n",
      "Size 250: 100%|██████████████████████████████████████████████████████████████████████████████████████████████| 9/9 [00:02<00:00,  3.55chk/s]\n",
      "Size 250: 100%|████████████████████████████████████████████████████████████████████████████████████████████| 10/10 [00:02<00:00,  4.60chk/s]\n",
      "Size 250: 100%|████████████████████████████████████████████████████████████████████████████████████████████| 47/47 [00:09<00:00,  5.01chk/s]\n",
      "Size 250: 100%|██████████████████████████████████████████████████████████████████████████████████████████████| 4/4 [00:01<00:00,  3.73chk/s]\n",
      "Size 250: 100%|██████████████████████████████████████████████████████████████████████████████████████████████| 2/2 [00:00<00:00,  4.21chk/s]\n",
      "Size 250: 100%|████████████████████████████████████████████████████████████████████████████████████████████| 13/13 [00:03<00:00,  4.26chk/s]\n",
      "Size 250: 100%|██████████████████████████████████████████████████████████████████████████████████████████████| 3/3 [00:00<00:00,  5.98chk/s]\n",
      "Size 250: 100%|██████████████████████████████████████████████████████████████████████████████████████████████| 1/1 [00:00<00:00,  8.52chk/s]\n",
      "Size 250: 100%|██████████████████████████████████████████████████████████████████████████████████████████████| 3/3 [00:00<00:00,  3.40chk/s]\n",
      "Size 250: 100%|██████████████████████████████████████████████████████████████████████████████████████████████| 3/3 [00:00<00:00,  4.14chk/s]\n",
      "Size 250: 100%|██████████████████████████████████████████████████████████████████████████████████████████████| 4/4 [00:00<00:00,  4.69chk/s]\n",
      "Size 250: 100%|██████████████████████████████████████████████████████████████████████████████████████████████| 4/4 [00:01<00:00,  2.70chk/s]\n",
      "Size 250: 100%|██████████████████████████████████████████████████████████████████████████████████████████████| 4/4 [00:01<00:00,  3.74chk/s]\n",
      "Size 250: 100%|██████████████████████████████████████████████████████████████████████████████████████████████| 2/2 [00:00<00:00,  2.07chk/s]\n",
      "Size 250: 100%|██████████████████████████████████████████████████████████████████████████████████████████████| 2/2 [00:00<00:00,  4.99chk/s]\n",
      "Size 250: 100%|████████████████████████████████████████████████████████████████████████████████████████████| 18/18 [00:04<00:00,  3.97chk/s]\n",
      "Size 250: 100%|████████████████████████████████████████████████████████████████████████████████████████████| 63/63 [00:16<00:00,  3.76chk/s]\n",
      "Size 250: 100%|████████████████████████████████████████████████████████████████████████████████████████████| 27/27 [00:06<00:00,  4.48chk/s]\n",
      "Size 250: 100%|████████████████████████████████████████████████████████████████████████████████████████████| 28/28 [00:06<00:00,  4.65chk/s]\n",
      "Size 250: 100%|██████████████████████████████████████████████████████████████████████████████████████████████| 7/7 [00:02<00:00,  3.31chk/s]\n",
      "Size 250: 100%|████████████████████████████████████████████████████████████████████████████████████████████| 13/13 [00:03<00:00,  3.79chk/s]\n",
      "Size 250: 100%|████████████████████████████████████████████████████████████████████████████████████████████| 46/46 [00:10<00:00,  4.36chk/s]\n",
      "Size 250: 100%|██████████████████████████████████████████████████████████████████████████████████████████████| 4/4 [00:00<00:00,  5.69chk/s]\n",
      "Size 250: 100%|████████████████████████████████████████████████████████████████████████████████████████████| 29/29 [00:06<00:00,  4.31chk/s]\n",
      "Size 250: 100%|████████████████████████████████████████████████████████████████████████████████████████████| 11/11 [00:02<00:00,  4.53chk/s]\n",
      "Size 250: 100%|██████████████████████████████████████████████████████████████████████████████████████████████| 4/4 [00:00<00:00,  4.41chk/s]\n",
      "Size 250: 100%|██████████████████████████████████████████████████████████████████████████████████████████████| 3/3 [00:01<00:00,  1.93chk/s]\n",
      "Size 250: 100%|██████████████████████████████████████████████████████████████████████████████████████████████| 3/3 [00:00<00:00,  5.07chk/s]\n",
      "Size 250: 100%|████████████████████████████████████████████████████████████████████████████████████████████| 14/14 [00:02<00:00,  4.84chk/s]\n",
      "Size 250: 100%|██████████████████████████████████████████████████████████████████████████████████████████████| 6/6 [00:01<00:00,  5.80chk/s]\n"
     ]
    },
    {
     "name": "stdout",
     "output_type": "stream",
     "text": [
      "✅ Finished size 250\n",
      "\n",
      "👉 Embedding for chunk size: 500\n"
     ]
    },
    {
     "name": "stderr",
     "output_type": "stream",
     "text": [
      "Size 500: 100%|██████████████████████████████████████████████████████████████████████████████████████████████| 1/1 [00:00<00:00,  5.04chk/s]\n",
      "Size 500: 100%|██████████████████████████████████████████████████████████████████████████████████████████████| 1/1 [00:01<00:00,  1.51s/chk]\n",
      "Size 500: 100%|██████████████████████████████████████████████████████████████████████████████████████████████| 5/5 [00:01<00:00,  4.17chk/s]\n",
      "Size 500: 100%|██████████████████████████████████████████████████████████████████████████████████████████████| 2/2 [00:00<00:00,  3.18chk/s]\n",
      "Size 500: 100%|██████████████████████████████████████████████████████████████████████████████████████████████| 5/5 [00:01<00:00,  4.37chk/s]\n",
      "Size 500: 100%|██████████████████████████████████████████████████████████████████████████████████████████████| 5/5 [00:01<00:00,  4.48chk/s]\n",
      "Size 500: 100%|████████████████████████████████████████████████████████████████████████████████████████████| 24/24 [00:05<00:00,  4.08chk/s]\n",
      "Size 500: 100%|██████████████████████████████████████████████████████████████████████████████████████████████| 2/2 [00:00<00:00,  4.30chk/s]\n",
      "Size 500: 100%|██████████████████████████████████████████████████████████████████████████████████████████████| 1/1 [00:00<00:00,  1.56chk/s]\n",
      "Size 500: 100%|██████████████████████████████████████████████████████████████████████████████████████████████| 7/7 [00:01<00:00,  4.61chk/s]\n",
      "Size 500: 100%|██████████████████████████████████████████████████████████████████████████████████████████████| 2/2 [00:00<00:00,  5.04chk/s]\n",
      "Size 500: 100%|██████████████████████████████████████████████████████████████████████████████████████████████| 1/1 [00:00<00:00,  5.03chk/s]\n",
      "Size 500: 100%|██████████████████████████████████████████████████████████████████████████████████████████████| 2/2 [00:00<00:00,  7.25chk/s]\n",
      "Size 500: 100%|██████████████████████████████████████████████████████████████████████████████████████████████| 2/2 [00:00<00:00,  3.90chk/s]\n",
      "Size 500: 100%|██████████████████████████████████████████████████████████████████████████████████████████████| 2/2 [00:00<00:00,  4.51chk/s]\n",
      "Size 500: 100%|██████████████████████████████████████████████████████████████████████████████████████████████| 2/2 [00:00<00:00,  4.99chk/s]\n",
      "Size 500: 100%|██████████████████████████████████████████████████████████████████████████████████████████████| 2/2 [00:00<00:00,  4.18chk/s]\n",
      "Size 500: 100%|██████████████████████████████████████████████████████████████████████████████████████████████| 1/1 [00:00<00:00,  3.28chk/s]\n",
      "Size 500: 100%|██████████████████████████████████████████████████████████████████████████████████████████████| 1/1 [00:00<00:00,  3.63chk/s]\n",
      "Size 500: 100%|██████████████████████████████████████████████████████████████████████████████████████████████| 9/9 [00:01<00:00,  5.07chk/s]\n",
      "Size 500: 100%|████████████████████████████████████████████████████████████████████████████████████████████| 32/32 [00:06<00:00,  4.64chk/s]\n",
      "Size 500: 100%|████████████████████████████████████████████████████████████████████████████████████████████| 14/14 [00:02<00:00,  4.82chk/s]\n",
      "Size 500: 100%|████████████████████████████████████████████████████████████████████████████████████████████| 14/14 [00:02<00:00,  4.98chk/s]\n",
      "Size 500: 100%|██████████████████████████████████████████████████████████████████████████████████████████████| 4/4 [00:01<00:00,  3.89chk/s]\n",
      "Size 500: 100%|██████████████████████████████████████████████████████████████████████████████████████████████| 7/7 [00:01<00:00,  4.56chk/s]\n",
      "Size 500: 100%|████████████████████████████████████████████████████████████████████████████████████████████| 23/23 [00:05<00:00,  4.10chk/s]\n",
      "Size 500: 100%|██████████████████████████████████████████████████████████████████████████████████████████████| 2/2 [00:00<00:00,  5.05chk/s]\n",
      "Size 500: 100%|████████████████████████████████████████████████████████████████████████████████████████████| 15/15 [00:02<00:00,  5.49chk/s]\n",
      "Size 500: 100%|██████████████████████████████████████████████████████████████████████████████████████████████| 6/6 [00:01<00:00,  4.95chk/s]\n",
      "Size 500: 100%|██████████████████████████████████████████████████████████████████████████████████████████████| 2/2 [00:00<00:00,  4.25chk/s]\n",
      "Size 500: 100%|██████████████████████████████████████████████████████████████████████████████████████████████| 2/2 [00:00<00:00,  3.90chk/s]\n",
      "Size 500: 100%|██████████████████████████████████████████████████████████████████████████████████████████████| 2/2 [00:00<00:00,  4.04chk/s]\n",
      "Size 500: 100%|██████████████████████████████████████████████████████████████████████████████████████████████| 7/7 [00:01<00:00,  4.93chk/s]\n",
      "Size 500: 100%|██████████████████████████████████████████████████████████████████████████████████████████████| 3/3 [00:00<00:00,  3.86chk/s]\n"
     ]
    },
    {
     "name": "stdout",
     "output_type": "stream",
     "text": [
      "✅ Finished size 500\n",
      "\n",
      "👉 Embedding for chunk size: 1000\n"
     ]
    },
    {
     "name": "stderr",
     "output_type": "stream",
     "text": [
      "Size 1000: 100%|█████████████████████████████████████████████████████████████████████████████████████████████| 1/1 [00:00<00:00,  4.57chk/s]\n",
      "Size 1000: 100%|█████████████████████████████████████████████████████████████████████████████████████████████| 1/1 [00:00<00:00,  6.75chk/s]\n",
      "Size 1000: 100%|█████████████████████████████████████████████████████████████████████████████████████████████| 3/3 [00:00<00:00,  5.11chk/s]\n",
      "Size 1000: 100%|█████████████████████████████████████████████████████████████████████████████████████████████| 1/1 [00:00<00:00,  5.93chk/s]\n",
      "Size 1000: 100%|█████████████████████████████████████████████████████████████████████████████████████████████| 3/3 [00:00<00:00,  5.19chk/s]\n",
      "Size 1000: 100%|█████████████████████████████████████████████████████████████████████████████████████████████| 3/3 [00:00<00:00,  4.62chk/s]\n",
      "Size 1000: 100%|███████████████████████████████████████████████████████████████████████████████████████████| 12/12 [00:02<00:00,  4.35chk/s]\n",
      "Size 1000: 100%|█████████████████████████████████████████████████████████████████████████████████████████████| 1/1 [00:00<00:00,  3.64chk/s]\n",
      "Size 1000: 100%|█████████████████████████████████████████████████████████████████████████████████████████████| 1/1 [00:00<00:00,  7.68chk/s]\n",
      "Size 1000: 100%|█████████████████████████████████████████████████████████████████████████████████████████████| 4/4 [00:00<00:00,  5.21chk/s]\n",
      "Size 1000: 100%|█████████████████████████████████████████████████████████████████████████████████████████████| 1/1 [00:00<00:00,  7.18chk/s]\n",
      "Size 1000: 100%|█████████████████████████████████████████████████████████████████████████████████████████████| 1/1 [00:00<00:00,  4.94chk/s]\n",
      "Size 1000: 100%|█████████████████████████████████████████████████████████████████████████████████████████████| 1/1 [00:00<00:00,  5.18chk/s]\n",
      "Size 1000: 100%|█████████████████████████████████████████████████████████████████████████████████████████████| 1/1 [00:00<00:00,  4.73chk/s]\n",
      "Size 1000: 100%|█████████████████████████████████████████████████████████████████████████████████████████████| 1/1 [00:00<00:00,  5.79chk/s]\n",
      "Size 1000: 100%|█████████████████████████████████████████████████████████████████████████████████████████████| 1/1 [00:00<00:00,  5.71chk/s]\n",
      "Size 1000: 100%|█████████████████████████████████████████████████████████████████████████████████████████████| 1/1 [00:00<00:00,  3.79chk/s]\n",
      "Size 1000: 100%|█████████████████████████████████████████████████████████████████████████████████████████████| 1/1 [00:00<00:00,  4.91chk/s]\n",
      "Size 1000: 100%|█████████████████████████████████████████████████████████████████████████████████████████████| 1/1 [00:00<00:00,  3.57chk/s]\n",
      "Size 1000: 100%|█████████████████████████████████████████████████████████████████████████████████████████████| 5/5 [00:00<00:00,  6.00chk/s]\n",
      "Size 1000: 100%|███████████████████████████████████████████████████████████████████████████████████████████| 16/16 [00:03<00:00,  4.47chk/s]\n",
      "Size 1000: 100%|█████████████████████████████████████████████████████████████████████████████████████████████| 7/7 [00:01<00:00,  4.57chk/s]\n",
      "Size 1000: 100%|█████████████████████████████████████████████████████████████████████████████████████████████| 7/7 [00:01<00:00,  4.14chk/s]\n",
      "Size 1000: 100%|█████████████████████████████████████████████████████████████████████████████████████████████| 2/2 [00:00<00:00,  3.94chk/s]\n",
      "Size 1000: 100%|█████████████████████████████████████████████████████████████████████████████████████████████| 4/4 [00:00<00:00,  4.53chk/s]\n",
      "Size 1000: 100%|███████████████████████████████████████████████████████████████████████████████████████████| 12/12 [00:02<00:00,  4.12chk/s]\n",
      "Size 1000: 100%|█████████████████████████████████████████████████████████████████████████████████████████████| 1/1 [00:00<00:00,  4.54chk/s]\n",
      "Size 1000: 100%|█████████████████████████████████████████████████████████████████████████████████████████████| 8/8 [00:01<00:00,  4.62chk/s]\n",
      "Size 1000: 100%|█████████████████████████████████████████████████████████████████████████████████████████████| 3/3 [00:00<00:00,  4.53chk/s]\n",
      "Size 1000: 100%|█████████████████████████████████████████████████████████████████████████████████████████████| 1/1 [00:00<00:00,  3.18chk/s]\n",
      "Size 1000: 100%|█████████████████████████████████████████████████████████████████████████████████████████████| 1/1 [00:00<00:00,  4.05chk/s]\n",
      "Size 1000: 100%|█████████████████████████████████████████████████████████████████████████████████████████████| 1/1 [00:00<00:00,  4.68chk/s]\n",
      "Size 1000: 100%|█████████████████████████████████████████████████████████████████████████████████████████████| 4/4 [00:00<00:00,  5.32chk/s]\n",
      "Size 1000: 100%|█████████████████████████████████████████████████████████████████████████████████████████████| 2/2 [00:00<00:00,  7.51chk/s]"
     ]
    },
    {
     "name": "stdout",
     "output_type": "stream",
     "text": [
      "✅ Finished size 1000\n"
     ]
    },
    {
     "name": "stderr",
     "output_type": "stream",
     "text": [
      "\n"
     ]
    }
   ],
   "source": [
    "from tqdm import tqdm\n",
    "\n",
    "chunk_embeds = {}\n",
    "for size in sizes:\n",
    "    print(f\"\\n👉 Embedding for chunk size: {size}\")\n",
    "    embeds = []\n",
    "    # wrap your inner loop in tqdm\n",
    "    for doc in docs:\n",
    "        chunks = chunk_text(doc, size)\n",
    "        for chunk in tqdm(chunks, desc=f\"Size {size}\", unit=\"chk\"):\n",
    "            resp = client.embeddings.create(\n",
    "                model=\"text-embedding-ada-002\",\n",
    "                input=chunk\n",
    "            )\n",
    "            embeds.append((chunk, resp.data[0].embedding))\n",
    "    chunk_embeds[size] = embeds\n",
    "    print(f\"✅ Finished size {size}\")\n"
   ]
  },
  {
   "cell_type": "code",
   "execution_count": 11,
   "id": "c1122046-7886-4fe4-8bef-b4580a7321b1",
   "metadata": {},
   "outputs": [],
   "source": [
    "from sklearn.metrics.pairwise import cosine_similarity\n",
    "import numpy as np\n",
    "\n",
    "def retrieve_top_k(query: str, embeds: list[tuple[str, list[float]]], k: int = 1):\n",
    "    # get the embedding for the query via new SDK\n",
    "    resp = client.embeddings.create(\n",
    "        model=\"text-embedding-ada-002\",\n",
    "        input=query\n",
    "    )\n",
    "    q_embed = resp.data[0].embedding\n",
    "\n",
    "    # compute cosine similarities\n",
    "    sims = cosine_similarity([q_embed], [vec for _, vec in embeds])[0]\n",
    "\n",
    "    # pick top-k indices\n",
    "    best_idxs = np.argsort(sims)[-k:][::-1]\n",
    "\n",
    "    # return (text, score) pairs\n",
    "    return [(embeds[i][0], float(sims[i])) for i in best_idxs]\n"
   ]
  },
  {
   "cell_type": "code",
   "execution_count": 13,
   "id": "0b296c42-0fdf-4366-8b22-74645406c53a",
   "metadata": {},
   "outputs": [
    {
     "name": "stdout",
     "output_type": "stream",
     "text": [
      "\n",
      "— Chunk size: 100 tokens —\n",
      "Q: How do I authenticate with Azure OpenAI?\n",
      "A (score 0.825):    type: string\n",
      "                example: {example of response}\n",
      "```\n",
      "\n",
      "## Authentication Instructions\n",
      "\n",
      "Below are instructions on setting up authentication with this 3rd party application. Have questions?...\n",
      "\n",
      "Q: What’s the example for streaming responses?\n",
      "A (score 0.785): Stream();\n",
      "            // The below takes the chunks in response and combines\n",
      "            let chunks = [];\n",
      "            for await (let chunk of response) {\n",
      "                chunks.push(chunk);\n",
      "          ...\n",
      "\n",
      "\n",
      "— Chunk size: 250 tokens —\n",
      "Q: How do I authenticate with Azure OpenAI?\n",
      "A (score 0.825):    type: string\n",
      "                example: {example of response}\n",
      "```\n",
      "\n",
      "## Authentication Instructions\n",
      "\n",
      "Below are instructions on setting up authentication with this 3rd party application. Have questions?...\n",
      "\n",
      "Q: What’s the example for streaming responses?\n",
      "A (score 0.757): -evident, and are probably better than the jargon developed in base model days.\n",
      "\n",
      "**Keep code examples general and exportable.** In code demonstrations, try to minimize dependencies. Don’t make users i...\n",
      "\n",
      "\n",
      "— Chunk size: 500 tokens —\n",
      "Q: How do I authenticate with Azure OpenAI?\n",
      "A (score 0.822):    type: string\n",
      "                example: {example of response}\n",
      "```\n",
      "\n",
      "## Authentication Instructions\n",
      "\n",
      "Below are instructions on setting up authentication with this 3rd party application. Have questions?...\n",
      "\n",
      "Q: What’s the example for streaming responses?\n",
      "A (score 0.748): perform-reasoning-via.html)\n",
      "\n",
      "To learn more, read the [full paper](https://arxiv.org/abs/2201.11903).\n",
      "\n",
      "#### Implications\n",
      "\n",
      "One advantage of the few-shot example-based approach relative to the `Let's thi...\n",
      "\n",
      "\n",
      "— Chunk size: 1000 tokens —\n",
      "Q: How do I authenticate with Azure OpenAI?\n",
      "A (score 0.823):    type: string\n",
      "                example: {example of response}\n",
      "```\n",
      "\n",
      "## Authentication Instructions\n",
      "\n",
      "Below are instructions on setting up authentication with this 3rd party application. Have questions?...\n",
      "\n",
      "Q: What’s the example for streaming responses?\n",
      "A (score 0.740): # Translation Demo\n",
      "\n",
      "This project demonstrates how to use the [OpenAI Realtime API](https://platform.openai.com/docs/guides/realtime) to build a one-way translation application with WebSockets. It is i...\n",
      "\n"
     ]
    }
   ],
   "source": [
    "questions = [\n",
    "    \"How do I authenticate with Azure OpenAI?\",\n",
    "    \"What’s the example for streaming responses?\",\n",
    "    # add up to 5\n",
    "]\n",
    "for size in sizes:\n",
    "    print(f\"\\n— Chunk size: {size} tokens —\")\n",
    "    for q in questions:\n",
    "        top_chunk, score = retrieve_top_k(q, chunk_embeds[size])[0]\n",
    "        print(f\"Q: {q}\\nA (score {score:.3f}): {top_chunk[:200]}...\\n\")\n"
   ]
  },
  {
   "cell_type": "code",
   "execution_count": 14,
   "id": "409e1d57-8a80-49ee-ad38-dfe0e054b117",
   "metadata": {},
   "outputs": [
    {
     "name": "stdout",
     "output_type": "stream",
     "text": [
      "\n",
      "Chunk size 100, Q: How do I authenticate with Azure OpenAI?\n",
      "   type: string\n",
      "                example: {example of response}\n",
      "```\n",
      "\n",
      "## Authentication Instructions\n",
      "\n",
      "Below are instructions on setting up authentication with this 3rd party application. Have questions? Check out [Getting Started Example](https://platform.openai.com/docs/actions/getting-started) to see how this step works in more detail.\n",
      "\n",
      "\n",
      "### In Google Cloud Console\n",
      "In Google Cloud\n"
     ]
    },
    {
     "name": "stdin",
     "output_type": "stream",
     "text": [
      "Score relevance 1–5:  4\n"
     ]
    },
    {
     "name": "stdout",
     "output_type": "stream",
     "text": [
      "\n",
      "Chunk size 100, Q: What’s the example for streaming responses?\n",
      "Stream();\n",
      "            // The below takes the chunks in response and combines\n",
      "            let chunks = [];\n",
      "            for await (let chunk of response) {\n",
      "                chunks.push(chunk);\n",
      "            }\n",
      "  \n"
     ]
    },
    {
     "name": "stdin",
     "output_type": "stream",
     "text": [
      "Score relevance 1–5:  1\n"
     ]
    },
    {
     "name": "stdout",
     "output_type": "stream",
     "text": [
      "\n",
      "Chunk size 250, Q: How do I authenticate with Azure OpenAI?\n",
      "   type: string\n",
      "                example: {example of response}\n",
      "```\n",
      "\n",
      "## Authentication Instructions\n",
      "\n",
      "Below are instructions on setting up authentication with this 3rd party application. Have questions? Check out [Getting Started Example](https://platform.openai.com/docs/actions/getting-started) to see how this step works in more detail.\n",
      "\n",
      "\n",
      "### In Google Cloud Console\n",
      "In Google Cloud Console, you need to create OAuth client ID credentials. To navigate to the right page search for \"Credentials\" in Google Cloud Console or enter `https://console.cloud.google.com/apis/credentials?project=<your_project_id>` in your browser. You can read more about it [here](https://developers.google.com/workspace/guides/create-credentials).\n",
      "\n",
      "Click on \"CREATE CREDENTIALS\" and select \"Oauth client ID\". Select \"Web Application\" for \"Application type\" and enter the name of your application (see below).\n",
      "\n",
      "![](../../../images/gcp-function-\n"
     ]
    },
    {
     "name": "stdin",
     "output_type": "stream",
     "text": [
      "Score relevance 1–5:  4\n"
     ]
    },
    {
     "name": "stdout",
     "output_type": "stream",
     "text": [
      "\n",
      "Chunk size 250, Q: What’s the example for streaming responses?\n",
      "-evident, and are probably better than the jargon developed in base model days.\n",
      "\n",
      "**Keep code examples general and exportable.** In code demonstrations, try to minimize dependencies. Don’t make users install extra libraries. Don’t make them have to refer back and forth between different pages or sections. Try to make examples simple and self-contained.\n",
      "\n",
      "**Prioritize topics by value.** Documentation that covers common problems—e.g., how to count tokens—is magnitudes more valuable than documentation that covers rare problems—e.g., how to optimize an emoji database. Prioritize accordingly.\n",
      "\n",
      "**Don’t teach bad habits.** If API keys should not be stored in code, never share an example that stores an API key in code.\n",
      "\n",
      "**Introduce topics with a broad opening.** For example, if explaining how to program a good recommender, consider opening by briefly mentioning that recommendations are widespread across the web, from YouTube videos to Amazon items to Wikipedia. Grounding a narrow topic with a broad opening can help people feel more secure before jumping into uncertain territory. And if the text is well-written, those who already know it may still enjoy it\n"
     ]
    },
    {
     "name": "stdin",
     "output_type": "stream",
     "text": [
      "Score relevance 1–5:  1\n"
     ]
    },
    {
     "name": "stdout",
     "output_type": "stream",
     "text": [
      "\n",
      "Chunk size 500, Q: How do I authenticate with Azure OpenAI?\n",
      "   type: string\n",
      "                example: {example of response}\n",
      "```\n",
      "\n",
      "## Authentication Instructions\n",
      "\n",
      "Below are instructions on setting up authentication with this 3rd party application. Have questions? Check out [Getting Started Example](https://platform.openai.com/docs/actions/getting-started) to see how this step works in more detail.\n",
      "\n",
      "\n",
      "### In Google Cloud Console\n",
      "In Google Cloud Console, you need to create OAuth client ID credentials. To navigate to the right page search for \"Credentials\" in Google Cloud Console or enter `https://console.cloud.google.com/apis/credentials?project=<your_project_id>` in your browser. You can read more about it [here](https://developers.google.com/workspace/guides/create-credentials).\n",
      "\n",
      "Click on \"CREATE CREDENTIALS\" and select \"Oauth client ID\". Select \"Web Application\" for \"Application type\" and enter the name of your application (see below).\n",
      "\n",
      "![](../../../images/gcp-function-middleware-oauthclient.png)\n",
      "\n",
      "In the \"OAuth client created\" modal dialog, please take note of the\n",
      "\n",
      "* Client ID\n",
      "* Client secret\n",
      "\n",
      "\n",
      "### In ChatGPT (refer to Step 2 in the Getting Started Example)\n",
      "\n",
      "In ChatGPT, click on \"Authentication\" and choose **\"OAuth\"**. Enter in the information below.\n",
      "\n",
      "- **Client ID**: *see step above*\n",
      "- **Client Secret**: *see step above*\n",
      "- **Authorization URL**: `https://accounts.google.com/o/oauth2/auth`\n",
      "- **Token URL**: `https://oauth2.googleapis.com/token`\n",
      "- **Scope**: `https://www.googleapis.com/auth/userinfo.email`\n",
      "\n",
      "### Back in Google Cloud Console (while referring to Step 4 in the Getting Started Example)\n",
      "\n",
      "Edit the OAuth 2.0 Client ID you create in Google Cloud earlier and add the callback URL you received after creating your custom action.\n",
      "\n",
      "![](../../../images/gcp-function-middleware-oa\n"
     ]
    },
    {
     "name": "stdin",
     "output_type": "stream",
     "text": [
      "Score relevance 1–5:  3\n"
     ]
    },
    {
     "name": "stdout",
     "output_type": "stream",
     "text": [
      "\n",
      "Chunk size 500, Q: What’s the example for streaming responses?\n",
      "perform-reasoning-via.html)\n",
      "\n",
      "To learn more, read the [full paper](https://arxiv.org/abs/2201.11903).\n",
      "\n",
      "#### Implications\n",
      "\n",
      "One advantage of the few-shot example-based approach relative to the `Let's think step by step` technique is that you can more easily specify the format, length, and style of reasoning that you want the model to perform before landing on its final answer. This can be particularly helpful in cases where the model isn't initially reasoning in the right way or depth.\n",
      "\n",
      "### Fine-tuned\n",
      "\n",
      "#### Method\n",
      "\n",
      "In general, to eke out maximum performance on a task, you'll need to fine-tune a custom model. However, fine-tuning a model using explanations may take thousands of example explanations, which are costly to write.\n",
      "\n",
      "In 2022, Eric Zelikman and Yuhuai Wu et al. published a clever procedure for using a few-shot prompt to generate a dataset of explanations that could be used to fine-tune a model. The idea is to use a few-shot prompt to generate candidate explanations, and only keep the explanations that produce the correct answer. Then, to get additional explanations for some of the incorrect answers, retry the few-shot prompt but with correct answers given as part of the question. The authors called their procedure STaR (Self-taught Reasoner):\n",
      "\n",
      "[![STaR procedure](/images/star_fig1.png)\n",
      "<br>Source: _STaR: Bootstrapping Reasoning With Reasoning_ by Eric Zelikman and Yujuai Wu et al. (2022)](https://arxiv.org/abs/2203.14465)\n",
      "\n",
      "With this technique, you can combine the benefits of fine-tuning with the benefits of chain-of-thought prompting without needing to write thousands of example explanations.\n",
      "\n",
      "#### Results\n",
      "\n",
      "When the authors applied this technique to a Common Sense Q&A dataset, they found that STaR outperformed both chain-of-thought prompting alone (73% > 37%) and fine-tuning alone (73% > 60%):\n",
      "\n",
      "[![STaR results](/images/star_tab1.png)\n",
      "<br>Source: _STaR: Bootstrapping Reason\n"
     ]
    },
    {
     "name": "stdin",
     "output_type": "stream",
     "text": [
      "Score relevance 1–5:  1\n"
     ]
    },
    {
     "name": "stdout",
     "output_type": "stream",
     "text": [
      "\n",
      "Chunk size 1000, Q: How do I authenticate with Azure OpenAI?\n",
      "   type: string\n",
      "                example: {example of response}\n",
      "```\n",
      "\n",
      "## Authentication Instructions\n",
      "\n",
      "Below are instructions on setting up authentication with this 3rd party application. Have questions? Check out [Getting Started Example](https://platform.openai.com/docs/actions/getting-started) to see how this step works in more detail.\n",
      "\n",
      "\n",
      "### In Google Cloud Console\n",
      "In Google Cloud Console, you need to create OAuth client ID credentials. To navigate to the right page search for \"Credentials\" in Google Cloud Console or enter `https://console.cloud.google.com/apis/credentials?project=<your_project_id>` in your browser. You can read more about it [here](https://developers.google.com/workspace/guides/create-credentials).\n",
      "\n",
      "Click on \"CREATE CREDENTIALS\" and select \"Oauth client ID\". Select \"Web Application\" for \"Application type\" and enter the name of your application (see below).\n",
      "\n",
      "![](../../../images/gcp-function-middleware-oauthclient.png)\n",
      "\n",
      "In the \"OAuth client created\" modal dialog, please take note of the\n",
      "\n",
      "* Client ID\n",
      "* Client secret\n",
      "\n",
      "\n",
      "### In ChatGPT (refer to Step 2 in the Getting Started Example)\n",
      "\n",
      "In ChatGPT, click on \"Authentication\" and choose **\"OAuth\"**. Enter in the information below.\n",
      "\n",
      "- **Client ID**: *see step above*\n",
      "- **Client Secret**: *see step above*\n",
      "- **Authorization URL**: `https://accounts.google.com/o/oauth2/auth`\n",
      "- **Token URL**: `https://oauth2.googleapis.com/token`\n",
      "- **Scope**: `https://www.googleapis.com/auth/userinfo.email`\n",
      "\n",
      "### Back in Google Cloud Console (while referring to Step 4 in the Getting Started Example)\n",
      "\n",
      "Edit the OAuth 2.0 Client ID you create in Google Cloud earlier and add the callback URL you received after creating your custom action.\n",
      "\n",
      "![](../../../images/gcp-function-middleware-oauthcallback.png)\n",
      "\n",
      "### Test the GPT\n",
      "\n",
      "You are now ready to test out the GPT. You can enter a simple prompt like \"Test Integration\" and expect to see the following:\n",
      "\n",
      "1. Request to sign into Google\n",
      "2. Allow request to your Google Function\n",
      "3. Response from ChatGPT showing the response from your function - e.g. \"You have connected as an authenticated user to Google Functions\"\n",
      "\n",
      "*Are there integrations that you’d like us to prioritize? Are there errors in our integrations? File a PR or issue in our github, and we’ll take a look.*\n",
      "\n"
     ]
    },
    {
     "name": "stdin",
     "output_type": "stream",
     "text": [
      "Score relevance 1–5:  3\n"
     ]
    },
    {
     "name": "stdout",
     "output_type": "stream",
     "text": [
      "\n",
      "Chunk size 1000, Q: What’s the example for streaming responses?\n",
      "# Translation Demo\n",
      "\n",
      "This project demonstrates how to use the [OpenAI Realtime API](https://platform.openai.com/docs/guides/realtime) to build a one-way translation application with WebSockets. It is implemented using the [Realtime + Websockets integration](https://platform.openai.com/docs/guides/realtime-websocket). A real-world use case for this demo is multilingual, conversational translation—where a speaker talks into the speaker app and listeners hear translations in their selected native languages via the listener app. Imagine a conference room with multiple participants with headphones, listening live to a speaker in their own languages. Due to the current turn-based nature of audio models, the speaker must pause briefly to allow the model to process and translate speech. However, as models become faster and more efficient, this latency will decrease significantly and the translation will become more seamless.\n",
      "\n",
      "## How to Use\n",
      "\n",
      "### Running the Application\n",
      "\n",
      "1. **Set up the OpenAI API:**\n",
      "\n",
      "   - If you're new to the OpenAI API, [sign up for an account](https://platform.openai.com/signup).\n",
      "   - Follow the [Quickstart](https://platform.openai.com/docs/quickstart) to retrieve your API key.\n",
      "\n",
      "2. **Clone the Repository:**\n",
      "\n",
      "   ```bash\n",
      "   git clone <repository-url>\n",
      "   ```\n",
      "\n",
      "3. **Set your API key:**\n",
      "\n",
      "   - Create a `.env` file at the root of the project and add the following line:\n",
      "     ```bash\n",
      "     REACT_APP_OPENAI_API_KEY=<your_api_key>\n",
      "     ```\n",
      "\n",
      "4. **Install dependencies:**\n",
      "\n",
      "   Navigate to the project directory and run:\n",
      "\n",
      "   ```bash\n",
      "   npm install\n",
      "   ```\n",
      "\n",
      "5. **Run the Speaker & Listener Apps:**\n",
      "\n",
      "   ```bash\n",
      "   npm start\n",
      "   ```\n",
      "\n",
      "   The speaker and listener apps will be available at:\n",
      "   - [http://localhost:3000/speaker](http://localhost:3000/speaker)\n",
      "   - [http://localhost:3000/listener](http://localhost:3000/listener)\n",
      "\n",
      "6. **Start the Mirror Server:**\n",
      "\n",
      "   In another terminal window, navigate to the project directory and run:\n",
      "\n",
      "   ```bash\n",
      "   node mirror-server/mirror-server.mjs\n",
      "   ```\n",
      "\n",
      "### Adding a New Language\n",
      "\n",
      "To add a new language to the codebase, follow these steps:\n",
      "\n",
      "1. **Socket Event Handling in Mirror Server:**\n",
      "\n",
      "   - Open `mirror-server/mirror-server.cjs`.\n",
      "   - Add a new socket event for the new language. For example, for Hindi:\n",
      "     ```javascript\n",
      "     socket.on('mirrorAudio:hi', (audioChunk) => {\n",
      "       console.log('logging Hindi mirrorAudio', audioChunk);\n",
      "       socket.broadcast.emit('audioFrame:hi', audioChunk);\n",
      "     });\n",
      "     ```\n",
      "\n",
      "2. **Instructions Configuration:**\n",
      "\n",
      "   - Open `src/utils/translation_prompts.js`.\n",
      "   - Add new instructions for the new language. For example:\n",
      "     ```javascript\n",
      "     export const hindi_instructions = \"Your Hindi instructions here...\";\n",
      "     ```\n",
      "\n",
      "3. **Realtime Client Initialization in SpeakerPage:**\n",
      "\n",
      "   - Open `src/pages/SpeakerPage.tsx`.\n",
      "   - Import the new language instructions:\n",
      "     ```typescript\n",
      "     import { hindi_instructions } from '../utils/translation_prompts.js';\n",
      "     ```\n",
      "   - Add the new language to the `languageConfigs` array:\n",
      "     ```typescript\n",
      "     const languageConfigs = [\n",
      "       // ... existing languages ...\n",
      "       { code: 'hi', instructions: hindi_instructions },\n",
      "     ];\n",
      "     ```\n",
      "\n",
      "4. **Language Configuration in ListenerPage:**\n",
      "\n",
      "   - Open `\n"
     ]
    },
    {
     "name": "stdin",
     "output_type": "stream",
     "text": [
      "Score relevance 1–5:  1\n"
     ]
    }
   ],
   "source": [
    "import pandas as pd\n",
    "\n",
    "records = []\n",
    "for size in sizes:\n",
    "    for q in questions:\n",
    "        top_chunk, sim = retrieve_top_k(q, chunk_embeds[size])[0]\n",
    "        print(f\"\\nChunk size {size}, Q: {q}\")\n",
    "        print(top_chunk)\n",
    "        score = int(input(\"Score relevance 1–5: \"))\n",
    "        records.append({\n",
    "            \"chunk_size\": size,\n",
    "            \"question\": q,\n",
    "            \"score\": score\n",
    "        })\n",
    "\n",
    "df = pd.DataFrame(records)\n"
   ]
  },
  {
   "cell_type": "code",
   "execution_count": 15,
   "id": "bc3a4117-5873-43d1-b5a3-855304ceb3e8",
   "metadata": {},
   "outputs": [],
   "source": [
    "df.to_csv(\"rag_chunk_doe_results.csv\", index=False)\n"
   ]
  },
  {
   "cell_type": "code",
   "execution_count": 16,
   "id": "3c15d30b-6b1f-4224-8817-a03627adaa02",
   "metadata": {},
   "outputs": [
    {
     "name": "stdout",
     "output_type": "stream",
     "text": [
      "   chunk_size  score\n",
      "0         100    2.5\n",
      "1         250    2.5\n",
      "2         500    2.0\n",
      "3        1000    2.0\n"
     ]
    }
   ],
   "source": [
    "summary = df.groupby(\"chunk_size\").score.mean().reset_index()\n",
    "print(summary)\n"
   ]
  },
  {
   "cell_type": "code",
   "execution_count": 17,
   "id": "ae6d2d1b-2f5a-472b-87f0-395c9cf5a322",
   "metadata": {},
   "outputs": [
    {
     "data": {
      "image/png": "[encoded data removed]",
      "text/plain": [
       "<Figure size 640x480 with 1 Axes>"
      ]
     },
     "metadata": {},
     "output_type": "display_data"
    }
   ],
   "source": [
    "import matplotlib.pyplot as plt\n",
    "\n",
    "plt.bar(summary.chunk_size.astype(str), summary.score)\n",
    "plt.xlabel(\"Chunk Size (tokens)\")\n",
    "plt.ylabel(\"Average Relevance Score\")\n",
    "plt.title(\"DOE: Chunk Size vs. Retrieval Quality\")\n",
    "plt.show()\n"
   ]
  },
  {
   "cell_type": "code",
   "execution_count": null,
   "id": "8c3efe86-fc03-4f2c-b058-1020f898c397",
   "metadata": {},
   "outputs": [],
   "source": []
  }
 ],
 "metadata": {
  "kernelspec": {
   "display_name": "Python 3 (ipykernel)",
   "language": "python",
   "name": "python3"
  },
  "language_info": {
   "codemirror_mode": {
    "name": "ipython",
    "version": 3
   },
   "file_extension": ".py",
   "mimetype": "text/x-python",
   "name": "python",
   "nbconvert_exporter": "python",
   "pygments_lexer": "ipython3",
   "version": "3.11.5"
  }
 },
 "nbformat": 4,
 "nbformat_minor": 5
}
