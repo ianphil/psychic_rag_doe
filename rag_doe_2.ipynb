{
 "cells": [
  {
   "cell_type": "code",
   "execution_count": null,
   "id": "b2f5a6ec",
   "metadata": {},
   "outputs": [],
   "source": [
    "# RAG Retrieval Factors - Design of Experiments Tutorial\n",
    "# \n",
    "# This notebook implements a full factorial Design of Experiments (DOE) \n",
    "# to evaluate different factors affecting RAG retrieval quality.\n",
    "#\n",
    "# Factors being tested:\n",
    "# 1. Retrieval Method: Pure Vector vs. Hybrid (Vector + Keyword)\n",
    "# 2. Filtering Method: None vs. Metadata Filtering\n",
    "# 3. Similarity Threshold: 0.5 vs. 0.75"
   ]
  },
  {
   "cell_type": "markdown",
   "id": "733973c3",
   "metadata": {},
   "source": [
    "## 1. Setup and Dependencies\n",
    "\n",
    "First, let's import our dependencies and set up our environment."
   ]
  },
  {
   "cell_type": "code",
   "execution_count": 1,
   "id": "a2a11461",
   "metadata": {},
   "outputs": [
    {
     "name": "stdout",
     "output_type": "stream",
     "text": [
      "Collecting chromadb\n",
      "  Downloading chromadb-1.0.8-cp39-abi3-macosx_10_12_x86_64.whl.metadata (6.9 kB)\n",
      "Requirement already satisfied: transformers in ./.venv/lib/python3.11/site-packages (4.51.3)\n",
      "Requirement already satisfied: openai in ./.venv/lib/python3.11/site-packages (1.78.0)\n",
      "Requirement already satisfied: scikit-learn in ./.venv/lib/python3.11/site-packages (1.6.1)\n",
      "Requirement already satisfied: pandas in ./.venv/lib/python3.11/site-packages (2.2.3)\n",
      "Requirement already satisfied: matplotlib in ./.venv/lib/python3.11/site-packages (3.10.3)\n",
      "Collecting seaborn\n",
      "  Downloading seaborn-0.13.2-py3-none-any.whl.metadata (5.4 kB)\n",
      "Requirement already satisfied: python-dotenv in ./.venv/lib/python3.11/site-packages (1.1.0)\n",
      "Requirement already satisfied: tqdm in ./.venv/lib/python3.11/site-packages (4.67.1)\n",
      "Collecting build>=1.0.3 (from chromadb)\n",
      "  Downloading build-1.2.2.post1-py3-none-any.whl.metadata (6.5 kB)\n",
      "Requirement already satisfied: pydantic>=1.9 in ./.venv/lib/python3.11/site-packages (from chromadb) (2.11.4)\n",
      "Collecting fastapi==0.115.9 (from chromadb)\n",
      "  Downloading fastapi-0.115.9-py3-none-any.whl.metadata (27 kB)\n",
      "Collecting uvicorn>=0.18.3 (from uvicorn[standard]>=0.18.3->chromadb)\n",
      "  Downloading uvicorn-0.34.2-py3-none-any.whl.metadata (6.5 kB)\n",
      "Requirement already satisfied: numpy>=1.22.5 in ./.venv/lib/python3.11/site-packages (from chromadb) (2.2.5)\n",
      "Collecting posthog>=2.4.0 (from chromadb)\n",
      "  Downloading posthog-4.0.1-py2.py3-none-any.whl.metadata (3.0 kB)\n",
      "Requirement already satisfied: typing-extensions>=4.5.0 in ./.venv/lib/python3.11/site-packages (from chromadb) (4.13.2)\n",
      "Collecting onnxruntime>=1.14.1 (from chromadb)\n",
      "  Downloading onnxruntime-1.22.0-cp311-cp311-macosx_13_0_universal2.whl.metadata (4.5 kB)\n",
      "Collecting opentelemetry-api>=1.2.0 (from chromadb)\n",
      "  Downloading opentelemetry_api-1.33.0-py3-none-any.whl.metadata (1.6 kB)\n",
      "Collecting opentelemetry-exporter-otlp-proto-grpc>=1.2.0 (from chromadb)\n",
      "  Downloading opentelemetry_exporter_otlp_proto_grpc-1.33.0-py3-none-any.whl.metadata (2.5 kB)\n",
      "Collecting opentelemetry-instrumentation-fastapi>=0.41b0 (from chromadb)\n",
      "  Downloading opentelemetry_instrumentation_fastapi-0.54b0-py3-none-any.whl.metadata (2.2 kB)\n",
      "Collecting opentelemetry-sdk>=1.2.0 (from chromadb)\n",
      "  Downloading opentelemetry_sdk-1.33.0-py3-none-any.whl.metadata (1.6 kB)\n",
      "Requirement already satisfied: tokenizers>=0.13.2 in ./.venv/lib/python3.11/site-packages (from chromadb) (0.21.1)\n",
      "Collecting pypika>=0.48.9 (from chromadb)\n",
      "  Downloading PyPika-0.48.9.tar.gz (67 kB)\n",
      "  Installing build dependencies ... \u001b[?25ldone\n",
      "\u001b[?25h  Getting requirements to build wheel ... \u001b[?25ldone\n",
      "\u001b[?25h  Preparing metadata (pyproject.toml) ... \u001b[?25ldone\n",
      "\u001b[?25hRequirement already satisfied: overrides>=7.3.1 in ./.venv/lib/python3.11/site-packages (from chromadb) (7.7.0)\n",
      "Collecting importlib-resources (from chromadb)\n",
      "  Downloading importlib_resources-6.5.2-py3-none-any.whl.metadata (3.9 kB)\n",
      "Collecting grpcio>=1.58.0 (from chromadb)\n",
      "  Downloading grpcio-1.71.0-cp311-cp311-macosx_10_14_universal2.whl.metadata (3.8 kB)\n",
      "Collecting bcrypt>=4.0.1 (from chromadb)\n",
      "  Downloading bcrypt-4.3.0-cp39-abi3-macosx_10_12_universal2.whl.metadata (10 kB)\n",
      "Collecting typer>=0.9.0 (from chromadb)\n",
      "  Downloading typer-0.15.3-py3-none-any.whl.metadata (15 kB)\n",
      "Collecting kubernetes>=28.1.0 (from chromadb)\n",
      "  Downloading kubernetes-32.0.1-py2.py3-none-any.whl.metadata (1.7 kB)\n",
      "Collecting tenacity>=8.2.3 (from chromadb)\n",
      "  Downloading tenacity-9.1.2-py3-none-any.whl.metadata (1.2 kB)\n",
      "Requirement already satisfied: pyyaml>=6.0.0 in ./.venv/lib/python3.11/site-packages (from chromadb) (6.0.2)\n",
      "Collecting mmh3>=4.0.1 (from chromadb)\n",
      "  Downloading mmh3-5.1.0-cp311-cp311-macosx_10_9_x86_64.whl.metadata (16 kB)\n",
      "Collecting orjson>=3.9.12 (from chromadb)\n",
      "  Downloading orjson-3.10.18-cp311-cp311-macosx_10_15_x86_64.macosx_11_0_arm64.macosx_10_15_universal2.whl.metadata (41 kB)\n",
      "Requirement already satisfied: httpx>=0.27.0 in ./.venv/lib/python3.11/site-packages (from chromadb) (0.28.1)\n",
      "Collecting rich>=10.11.0 (from chromadb)\n",
      "  Downloading rich-14.0.0-py3-none-any.whl.metadata (18 kB)\n",
      "Requirement already satisfied: jsonschema>=4.19.0 in ./.venv/lib/python3.11/site-packages (from chromadb) (4.23.0)\n",
      "Collecting starlette<0.46.0,>=0.40.0 (from fastapi==0.115.9->chromadb)\n",
      "  Downloading starlette-0.45.3-py3-none-any.whl.metadata (6.3 kB)\n",
      "Requirement already satisfied: annotated-types>=0.6.0 in ./.venv/lib/python3.11/site-packages (from pydantic>=1.9->chromadb) (0.7.0)\n",
      "Requirement already satisfied: pydantic-core==2.33.2 in ./.venv/lib/python3.11/site-packages (from pydantic>=1.9->chromadb) (2.33.2)\n",
      "Requirement already satisfied: typing-inspection>=0.4.0 in ./.venv/lib/python3.11/site-packages (from pydantic>=1.9->chromadb) (0.4.0)\n",
      "Requirement already satisfied: anyio<5,>=3.6.2 in ./.venv/lib/python3.11/site-packages (from starlette<0.46.0,>=0.40.0->fastapi==0.115.9->chromadb) (4.9.0)\n",
      "Requirement already satisfied: idna>=2.8 in ./.venv/lib/python3.11/site-packages (from anyio<5,>=3.6.2->starlette<0.46.0,>=0.40.0->fastapi==0.115.9->chromadb) (3.10)\n",
      "Requirement already satisfied: sniffio>=1.1 in ./.venv/lib/python3.11/site-packages (from anyio<5,>=3.6.2->starlette<0.46.0,>=0.40.0->fastapi==0.115.9->chromadb) (1.3.1)\n",
      "Requirement already satisfied: filelock in ./.venv/lib/python3.11/site-packages (from transformers) (3.18.0)\n",
      "Requirement already satisfied: huggingface-hub<1.0,>=0.30.0 in ./.venv/lib/python3.11/site-packages (from transformers) (0.31.1)\n",
      "Requirement already satisfied: packaging>=20.0 in ./.venv/lib/python3.11/site-packages (from transformers) (25.0)\n",
      "Requirement already satisfied: regex!=2019.12.17 in ./.venv/lib/python3.11/site-packages (from transformers) (2024.11.6)\n",
      "Requirement already satisfied: requests in ./.venv/lib/python3.11/site-packages (from transformers) (2.32.3)\n",
      "Requirement already satisfied: safetensors>=0.4.3 in ./.venv/lib/python3.11/site-packages (from transformers) (0.5.3)\n",
      "Requirement already satisfied: fsspec>=2023.5.0 in ./.venv/lib/python3.11/site-packages (from huggingface-hub<1.0,>=0.30.0->transformers) (2025.3.2)\n",
      "Requirement already satisfied: hf-xet<2.0.0,>=1.1.0 in ./.venv/lib/python3.11/site-packages (from huggingface-hub<1.0,>=0.30.0->transformers) (1.1.0)\n",
      "Requirement already satisfied: distro<2,>=1.7.0 in ./.venv/lib/python3.11/site-packages (from openai) (1.9.0)\n",
      "Requirement already satisfied: jiter<1,>=0.4.0 in ./.venv/lib/python3.11/site-packages (from openai) (0.9.0)\n",
      "Requirement already satisfied: certifi in ./.venv/lib/python3.11/site-packages (from httpx>=0.27.0->chromadb) (2025.4.26)\n",
      "Requirement already satisfied: httpcore==1.* in ./.venv/lib/python3.11/site-packages (from httpx>=0.27.0->chromadb) (1.0.9)\n",
      "Requirement already satisfied: h11>=0.16 in ./.venv/lib/python3.11/site-packages (from httpcore==1.*->httpx>=0.27.0->chromadb) (0.16.0)\n",
      "Requirement already satisfied: scipy>=1.6.0 in ./.venv/lib/python3.11/site-packages (from scikit-learn) (1.15.3)\n",
      "Requirement already satisfied: joblib>=1.2.0 in ./.venv/lib/python3.11/site-packages (from scikit-learn) (1.5.0)\n",
      "Requirement already satisfied: threadpoolctl>=3.1.0 in ./.venv/lib/python3.11/site-packages (from scikit-learn) (3.6.0)\n",
      "Requirement already satisfied: python-dateutil>=2.8.2 in ./.venv/lib/python3.11/site-packages (from pandas) (2.9.0.post0)\n",
      "Requirement already satisfied: pytz>=2020.1 in ./.venv/lib/python3.11/site-packages (from pandas) (2025.2)\n",
      "Requirement already satisfied: tzdata>=2022.7 in ./.venv/lib/python3.11/site-packages (from pandas) (2025.2)\n",
      "Requirement already satisfied: contourpy>=1.0.1 in ./.venv/lib/python3.11/site-packages (from matplotlib) (1.3.2)\n",
      "Requirement already satisfied: cycler>=0.10 in ./.venv/lib/python3.11/site-packages (from matplotlib) (0.12.1)\n",
      "Requirement already satisfied: fonttools>=4.22.0 in ./.venv/lib/python3.11/site-packages (from matplotlib) (4.58.0)\n",
      "Requirement already satisfied: kiwisolver>=1.3.1 in ./.venv/lib/python3.11/site-packages (from matplotlib) (1.4.8)\n",
      "Requirement already satisfied: pillow>=8 in ./.venv/lib/python3.11/site-packages (from matplotlib) (11.2.1)\n",
      "Requirement already satisfied: pyparsing>=2.3.1 in ./.venv/lib/python3.11/site-packages (from matplotlib) (3.2.3)\n",
      "Collecting pyproject_hooks (from build>=1.0.3->chromadb)\n",
      "  Downloading pyproject_hooks-1.2.0-py3-none-any.whl.metadata (1.3 kB)\n",
      "Requirement already satisfied: attrs>=22.2.0 in ./.venv/lib/python3.11/site-packages (from jsonschema>=4.19.0->chromadb) (25.3.0)\n",
      "Requirement already satisfied: jsonschema-specifications>=2023.03.6 in ./.venv/lib/python3.11/site-packages (from jsonschema>=4.19.0->chromadb) (2025.4.1)\n",
      "Requirement already satisfied: referencing>=0.28.4 in ./.venv/lib/python3.11/site-packages (from jsonschema>=4.19.0->chromadb) (0.36.2)\n",
      "Requirement already satisfied: rpds-py>=0.7.1 in ./.venv/lib/python3.11/site-packages (from jsonschema>=4.19.0->chromadb) (0.24.0)\n",
      "Requirement already satisfied: six>=1.9.0 in ./.venv/lib/python3.11/site-packages (from kubernetes>=28.1.0->chromadb) (1.17.0)\n",
      "Collecting google-auth>=1.0.1 (from kubernetes>=28.1.0->chromadb)\n",
      "  Downloading google_auth-2.40.1-py2.py3-none-any.whl.metadata (6.2 kB)\n",
      "Requirement already satisfied: websocket-client!=0.40.0,!=0.41.*,!=0.42.*,>=0.32.0 in ./.venv/lib/python3.11/site-packages (from kubernetes>=28.1.0->chromadb) (1.8.0)\n",
      "Collecting requests-oauthlib (from kubernetes>=28.1.0->chromadb)\n",
      "  Downloading requests_oauthlib-2.0.0-py2.py3-none-any.whl.metadata (11 kB)\n",
      "Collecting oauthlib>=3.2.2 (from kubernetes>=28.1.0->chromadb)\n",
      "  Downloading oauthlib-3.2.2-py3-none-any.whl.metadata (7.5 kB)\n",
      "Requirement already satisfied: urllib3>=1.24.2 in ./.venv/lib/python3.11/site-packages (from kubernetes>=28.1.0->chromadb) (2.4.0)\n",
      "Collecting durationpy>=0.7 (from kubernetes>=28.1.0->chromadb)\n",
      "  Downloading durationpy-0.9-py3-none-any.whl.metadata (338 bytes)\n",
      "Collecting cachetools<6.0,>=2.0.0 (from google-auth>=1.0.1->kubernetes>=28.1.0->chromadb)\n",
      "  Downloading cachetools-5.5.2-py3-none-any.whl.metadata (5.4 kB)\n",
      "Collecting pyasn1-modules>=0.2.1 (from google-auth>=1.0.1->kubernetes>=28.1.0->chromadb)\n",
      "  Downloading pyasn1_modules-0.4.2-py3-none-any.whl.metadata (3.5 kB)\n",
      "Collecting rsa<5,>=3.1.4 (from google-auth>=1.0.1->kubernetes>=28.1.0->chromadb)\n",
      "  Downloading rsa-4.9.1-py3-none-any.whl.metadata (5.6 kB)\n",
      "Collecting pyasn1>=0.1.3 (from rsa<5,>=3.1.4->google-auth>=1.0.1->kubernetes>=28.1.0->chromadb)\n",
      "  Downloading pyasn1-0.6.1-py3-none-any.whl.metadata (8.4 kB)\n",
      "Collecting coloredlogs (from onnxruntime>=1.14.1->chromadb)\n",
      "  Downloading coloredlogs-15.0.1-py2.py3-none-any.whl.metadata (12 kB)\n",
      "Collecting flatbuffers (from onnxruntime>=1.14.1->chromadb)\n",
      "  Downloading flatbuffers-25.2.10-py2.py3-none-any.whl.metadata (875 bytes)\n",
      "Collecting protobuf (from onnxruntime>=1.14.1->chromadb)\n",
      "  Downloading protobuf-6.30.2-cp39-abi3-macosx_10_9_universal2.whl.metadata (593 bytes)\n",
      "Collecting sympy (from onnxruntime>=1.14.1->chromadb)\n",
      "  Downloading sympy-1.14.0-py3-none-any.whl.metadata (12 kB)\n",
      "Collecting deprecated>=1.2.6 (from opentelemetry-api>=1.2.0->chromadb)\n",
      "  Downloading Deprecated-1.2.18-py2.py3-none-any.whl.metadata (5.7 kB)\n",
      "Collecting importlib-metadata<8.7.0,>=6.0 (from opentelemetry-api>=1.2.0->chromadb)\n",
      "  Downloading importlib_metadata-8.6.1-py3-none-any.whl.metadata (4.7 kB)\n",
      "Collecting zipp>=3.20 (from importlib-metadata<8.7.0,>=6.0->opentelemetry-api>=1.2.0->chromadb)\n",
      "  Using cached zipp-3.21.0-py3-none-any.whl.metadata (3.7 kB)\n",
      "Collecting wrapt<2,>=1.10 (from deprecated>=1.2.6->opentelemetry-api>=1.2.0->chromadb)\n",
      "  Using cached wrapt-1.17.2-cp311-cp311-macosx_10_9_x86_64.whl.metadata (6.4 kB)\n",
      "Collecting googleapis-common-protos~=1.52 (from opentelemetry-exporter-otlp-proto-grpc>=1.2.0->chromadb)\n",
      "  Downloading googleapis_common_protos-1.70.0-py3-none-any.whl.metadata (9.3 kB)\n",
      "Collecting opentelemetry-exporter-otlp-proto-common==1.33.0 (from opentelemetry-exporter-otlp-proto-grpc>=1.2.0->chromadb)\n",
      "  Downloading opentelemetry_exporter_otlp_proto_common-1.33.0-py3-none-any.whl.metadata (1.9 kB)\n",
      "Collecting opentelemetry-proto==1.33.0 (from opentelemetry-exporter-otlp-proto-grpc>=1.2.0->chromadb)\n",
      "  Downloading opentelemetry_proto-1.33.0-py3-none-any.whl.metadata (2.4 kB)\n",
      "Collecting protobuf (from onnxruntime>=1.14.1->chromadb)\n",
      "  Downloading protobuf-5.29.4-cp38-abi3-macosx_10_9_universal2.whl.metadata (592 bytes)\n",
      "Collecting opentelemetry-semantic-conventions==0.54b0 (from opentelemetry-sdk>=1.2.0->chromadb)\n",
      "  Downloading opentelemetry_semantic_conventions-0.54b0-py3-none-any.whl.metadata (2.5 kB)\n",
      "Collecting opentelemetry-instrumentation-asgi==0.54b0 (from opentelemetry-instrumentation-fastapi>=0.41b0->chromadb)\n",
      "  Downloading opentelemetry_instrumentation_asgi-0.54b0-py3-none-any.whl.metadata (2.1 kB)\n",
      "Collecting opentelemetry-instrumentation==0.54b0 (from opentelemetry-instrumentation-fastapi>=0.41b0->chromadb)\n",
      "  Downloading opentelemetry_instrumentation-0.54b0-py3-none-any.whl.metadata (6.8 kB)\n",
      "Collecting opentelemetry-util-http==0.54b0 (from opentelemetry-instrumentation-fastapi>=0.41b0->chromadb)\n",
      "  Downloading opentelemetry_util_http-0.54b0-py3-none-any.whl.metadata (2.6 kB)\n",
      "Collecting asgiref~=3.0 (from opentelemetry-instrumentation-asgi==0.54b0->opentelemetry-instrumentation-fastapi>=0.41b0->chromadb)\n",
      "  Downloading asgiref-3.8.1-py3-none-any.whl.metadata (9.3 kB)\n",
      "Collecting backoff>=1.10.0 (from posthog>=2.4.0->chromadb)\n",
      "  Downloading backoff-2.2.1-py3-none-any.whl.metadata (14 kB)\n",
      "Requirement already satisfied: charset-normalizer<4,>=2 in ./.venv/lib/python3.11/site-packages (from requests->transformers) (3.4.2)\n",
      "Requirement already satisfied: markdown-it-py>=2.2.0 in ./.venv/lib/python3.11/site-packages (from rich>=10.11.0->chromadb) (3.0.0)\n",
      "Requirement already satisfied: pygments<3.0.0,>=2.13.0 in ./.venv/lib/python3.11/site-packages (from rich>=10.11.0->chromadb) (2.19.1)\n",
      "Requirement already satisfied: mdurl~=0.1 in ./.venv/lib/python3.11/site-packages (from markdown-it-py>=2.2.0->rich>=10.11.0->chromadb) (0.1.2)\n",
      "Collecting click>=8.0.0 (from typer>=0.9.0->chromadb)\n",
      "  Downloading click-8.2.0-py3-none-any.whl.metadata (2.5 kB)\n",
      "Collecting shellingham>=1.3.0 (from typer>=0.9.0->chromadb)\n",
      "  Downloading shellingham-1.5.4-py2.py3-none-any.whl.metadata (3.5 kB)\n",
      "Collecting httptools>=0.6.3 (from uvicorn[standard]>=0.18.3->chromadb)\n",
      "  Downloading httptools-0.6.4-cp311-cp311-macosx_10_9_universal2.whl.metadata (3.6 kB)\n",
      "Collecting uvloop!=0.15.0,!=0.15.1,>=0.14.0 (from uvicorn[standard]>=0.18.3->chromadb)\n",
      "  Downloading uvloop-0.21.0-cp311-cp311-macosx_10_9_x86_64.whl.metadata (4.9 kB)\n",
      "Collecting watchfiles>=0.13 (from uvicorn[standard]>=0.18.3->chromadb)\n",
      "  Downloading watchfiles-1.0.5-cp311-cp311-macosx_10_12_x86_64.whl.metadata (4.9 kB)\n",
      "Collecting websockets>=10.4 (from uvicorn[standard]>=0.18.3->chromadb)\n",
      "  Downloading websockets-15.0.1-cp311-cp311-macosx_10_9_x86_64.whl.metadata (6.8 kB)\n",
      "Collecting humanfriendly>=9.1 (from coloredlogs->onnxruntime>=1.14.1->chromadb)\n",
      "  Downloading humanfriendly-10.0-py2.py3-none-any.whl.metadata (9.2 kB)\n",
      "Collecting mpmath<1.4,>=1.1.0 (from sympy->onnxruntime>=1.14.1->chromadb)\n",
      "  Downloading mpmath-1.3.0-py3-none-any.whl.metadata (8.6 kB)\n",
      "Downloading chromadb-1.0.8-cp39-abi3-macosx_10_12_x86_64.whl (18.2 MB)\n",
      "\u001b[2K   \u001b[38;2;114;156;31m━━━━━━━━━━━━━━━━━━━━━━━━━━━━━━━━━━━━━━━━\u001b[0m \u001b[32m18.2/18.2 MB\u001b[0m \u001b[31m68.4 MB/s\u001b[0m eta \u001b[36m0:00:00\u001b[0m31m85.9 MB/s\u001b[0m eta \u001b[36m0:00:01\u001b[0m\n",
      "\u001b[?25hDownloading fastapi-0.115.9-py3-none-any.whl (94 kB)\n",
      "Downloading starlette-0.45.3-py3-none-any.whl (71 kB)\n",
      "Downloading seaborn-0.13.2-py3-none-any.whl (294 kB)\n",
      "Downloading bcrypt-4.3.0-cp39-abi3-macosx_10_12_universal2.whl (498 kB)\n",
      "Downloading build-1.2.2.post1-py3-none-any.whl (22 kB)\n",
      "Downloading grpcio-1.71.0-cp311-cp311-macosx_10_14_universal2.whl (11.3 MB)\n",
      "\u001b[2K   \u001b[38;2;114;156;31m━━━━━━━━━━━━━━━━━━━━━━━━━━━━━━━━━━━━━━━━\u001b[0m \u001b[32m11.3/11.3 MB\u001b[0m \u001b[31m81.1 MB/s\u001b[0m eta \u001b[36m0:00:00\u001b[0m\n",
      "\u001b[?25hDownloading kubernetes-32.0.1-py2.py3-none-any.whl (2.0 MB)\n",
      "\u001b[2K   \u001b[38;2;114;156;31m━━━━━━━━━━━━━━━━━━━━━━━━━━━━━━━━━━━━━━━━\u001b[0m \u001b[32m2.0/2.0 MB\u001b[0m \u001b[31m45.1 MB/s\u001b[0m eta \u001b[36m0:00:00\u001b[0m\n",
      "\u001b[?25hDownloading durationpy-0.9-py3-none-any.whl (3.5 kB)\n",
      "Downloading google_auth-2.40.1-py2.py3-none-any.whl (216 kB)\n",
      "Downloading cachetools-5.5.2-py3-none-any.whl (10 kB)\n",
      "Downloading rsa-4.9.1-py3-none-any.whl (34 kB)\n",
      "Downloading mmh3-5.1.0-cp311-cp311-macosx_10_9_x86_64.whl (40 kB)\n",
      "Downloading oauthlib-3.2.2-py3-none-any.whl (151 kB)\n",
      "Downloading onnxruntime-1.22.0-cp311-cp311-macosx_13_0_universal2.whl (34.3 MB)\n",
      "\u001b[2K   \u001b[38;2;114;156;31m━━━━━━━━━━━━━━━━━━━━━━━━━━━━━━━━━━━━━━━━\u001b[0m \u001b[32m34.3/34.3 MB\u001b[0m \u001b[31m85.2 MB/s\u001b[0m eta \u001b[36m0:00:00\u001b[0m31m110.6 MB/s\u001b[0m eta \u001b[36m0:00:01\u001b[0m\n",
      "\u001b[?25hDownloading opentelemetry_api-1.33.0-py3-none-any.whl (65 kB)\n",
      "Downloading importlib_metadata-8.6.1-py3-none-any.whl (26 kB)\n",
      "Downloading Deprecated-1.2.18-py2.py3-none-any.whl (10.0 kB)\n",
      "Using cached wrapt-1.17.2-cp311-cp311-macosx_10_9_x86_64.whl (38 kB)\n",
      "Downloading opentelemetry_exporter_otlp_proto_grpc-1.33.0-py3-none-any.whl (18 kB)\n",
      "Downloading opentelemetry_exporter_otlp_proto_common-1.33.0-py3-none-any.whl (18 kB)\n",
      "Downloading opentelemetry_proto-1.33.0-py3-none-any.whl (55 kB)\n",
      "Downloading googleapis_common_protos-1.70.0-py3-none-any.whl (294 kB)\n",
      "Downloading opentelemetry_sdk-1.33.0-py3-none-any.whl (118 kB)\n",
      "Downloading opentelemetry_semantic_conventions-0.54b0-py3-none-any.whl (194 kB)\n",
      "Downloading protobuf-5.29.4-cp38-abi3-macosx_10_9_universal2.whl (417 kB)\n",
      "Downloading opentelemetry_instrumentation_fastapi-0.54b0-py3-none-any.whl (12 kB)\n",
      "Downloading opentelemetry_instrumentation-0.54b0-py3-none-any.whl (31 kB)\n",
      "Downloading opentelemetry_instrumentation_asgi-0.54b0-py3-none-any.whl (16 kB)\n",
      "Downloading opentelemetry_util_http-0.54b0-py3-none-any.whl (7.3 kB)\n",
      "Downloading asgiref-3.8.1-py3-none-any.whl (23 kB)\n",
      "Downloading orjson-3.10.18-cp311-cp311-macosx_10_15_x86_64.macosx_11_0_arm64.macosx_10_15_universal2.whl (248 kB)\n",
      "Downloading posthog-4.0.1-py2.py3-none-any.whl (92 kB)\n",
      "Downloading backoff-2.2.1-py3-none-any.whl (15 kB)\n",
      "Downloading pyasn1-0.6.1-py3-none-any.whl (83 kB)\n",
      "Downloading pyasn1_modules-0.4.2-py3-none-any.whl (181 kB)\n",
      "Downloading rich-14.0.0-py3-none-any.whl (243 kB)\n",
      "Downloading tenacity-9.1.2-py3-none-any.whl (28 kB)\n",
      "Downloading typer-0.15.3-py3-none-any.whl (45 kB)\n",
      "Downloading click-8.2.0-py3-none-any.whl (102 kB)\n",
      "Downloading shellingham-1.5.4-py2.py3-none-any.whl (9.8 kB)\n",
      "Downloading uvicorn-0.34.2-py3-none-any.whl (62 kB)\n",
      "Downloading httptools-0.6.4-cp311-cp311-macosx_10_9_universal2.whl (199 kB)\n",
      "Downloading uvloop-0.21.0-cp311-cp311-macosx_10_9_x86_64.whl (805 kB)\n",
      "\u001b[2K   \u001b[38;2;114;156;31m━━━━━━━━━━━━━━━━━━━━━━━━━━━━━━━━━━━━━━━━\u001b[0m \u001b[32m805.5/805.5 kB\u001b[0m \u001b[31m22.0 MB/s\u001b[0m eta \u001b[36m0:00:00\u001b[0m\n",
      "\u001b[?25hDownloading watchfiles-1.0.5-cp311-cp311-macosx_10_12_x86_64.whl (405 kB)\n",
      "Downloading websockets-15.0.1-cp311-cp311-macosx_10_9_x86_64.whl (173 kB)\n",
      "Using cached zipp-3.21.0-py3-none-any.whl (9.6 kB)\n",
      "Downloading coloredlogs-15.0.1-py2.py3-none-any.whl (46 kB)\n",
      "Downloading humanfriendly-10.0-py2.py3-none-any.whl (86 kB)\n",
      "Downloading flatbuffers-25.2.10-py2.py3-none-any.whl (30 kB)\n",
      "Downloading importlib_resources-6.5.2-py3-none-any.whl (37 kB)\n",
      "Downloading pyproject_hooks-1.2.0-py3-none-any.whl (10 kB)\n",
      "Downloading requests_oauthlib-2.0.0-py2.py3-none-any.whl (24 kB)\n",
      "Downloading sympy-1.14.0-py3-none-any.whl (6.3 MB)\n",
      "\u001b[2K   \u001b[38;2;114;156;31m━━━━━━━━━━━━━━━━━━━━━━━━━━━━━━━━━━━━━━━━\u001b[0m \u001b[32m6.3/6.3 MB\u001b[0m \u001b[31m71.1 MB/s\u001b[0m eta \u001b[36m0:00:00\u001b[0m\n",
      "\u001b[?25hDownloading mpmath-1.3.0-py3-none-any.whl (536 kB)\n",
      "\u001b[2K   \u001b[38;2;114;156;31m━━━━━━━━━━━━━━━━━━━━━━━━━━━━━━━━━━━━━━━━\u001b[0m \u001b[32m536.2/536.2 kB\u001b[0m \u001b[31m11.7 MB/s\u001b[0m eta \u001b[36m0:00:00\u001b[0m\n",
      "\u001b[?25hBuilding wheels for collected packages: pypika\n",
      "  Building wheel for pypika (pyproject.toml) ... \u001b[?25ldone\n",
      "\u001b[?25h  Created wheel for pypika: filename=pypika-0.48.9-py2.py3-none-any.whl size=53803 sha256=ef2eb3577c341ab096eba8d8de57c6ddcb4de2396e6f7a164e5098854e06e54d\n",
      "  Stored in directory: /Users/ianphil/Library/Caches/pip/wheels/a3/01/bd/4c40ceb9d5354160cb186dcc153360f4ab7eb23e2b24daf96d\n",
      "Successfully built pypika\n",
      "Installing collected packages: pypika, mpmath, flatbuffers, durationpy, zipp, wrapt, websockets, uvloop, tenacity, sympy, shellingham, pyproject_hooks, pyasn1, protobuf, orjson, opentelemetry-util-http, oauthlib, mmh3, importlib-resources, humanfriendly, httptools, grpcio, click, cachetools, bcrypt, backoff, asgiref, watchfiles, uvicorn, starlette, rsa, rich, requests-oauthlib, pyasn1-modules, posthog, opentelemetry-proto, importlib-metadata, googleapis-common-protos, deprecated, coloredlogs, build, typer, seaborn, opentelemetry-exporter-otlp-proto-common, opentelemetry-api, onnxruntime, google-auth, fastapi, opentelemetry-semantic-conventions, kubernetes, opentelemetry-sdk, opentelemetry-instrumentation, opentelemetry-instrumentation-asgi, opentelemetry-exporter-otlp-proto-grpc, opentelemetry-instrumentation-fastapi, chromadb\n",
      "\u001b[2K   \u001b[38;2;114;156;31m━━━━━━━━━━━━━━━━━━━━━━━━━━━━━━━━━━━━━━━━\u001b[0m \u001b[32m56/56\u001b[0m [chromadb]\u001b[0m [chromadb]m51/56\u001b[0m [opentelemetry-instrumentation]\n",
      "\u001b[1A\u001b[2KSuccessfully installed asgiref-3.8.1 backoff-2.2.1 bcrypt-4.3.0 build-1.2.2.post1 cachetools-5.5.2 chromadb-1.0.8 click-8.2.0 coloredlogs-15.0.1 deprecated-1.2.18 durationpy-0.9 fastapi-0.115.9 flatbuffers-25.2.10 google-auth-2.40.1 googleapis-common-protos-1.70.0 grpcio-1.71.0 httptools-0.6.4 humanfriendly-10.0 importlib-metadata-8.6.1 importlib-resources-6.5.2 kubernetes-32.0.1 mmh3-5.1.0 mpmath-1.3.0 oauthlib-3.2.2 onnxruntime-1.22.0 opentelemetry-api-1.33.0 opentelemetry-exporter-otlp-proto-common-1.33.0 opentelemetry-exporter-otlp-proto-grpc-1.33.0 opentelemetry-instrumentation-0.54b0 opentelemetry-instrumentation-asgi-0.54b0 opentelemetry-instrumentation-fastapi-0.54b0 opentelemetry-proto-1.33.0 opentelemetry-sdk-1.33.0 opentelemetry-semantic-conventions-0.54b0 opentelemetry-util-http-0.54b0 orjson-3.10.18 posthog-4.0.1 protobuf-5.29.4 pyasn1-0.6.1 pyasn1-modules-0.4.2 pypika-0.48.9 pyproject_hooks-1.2.0 requests-oauthlib-2.0.0 rich-14.0.0 rsa-4.9.1 seaborn-0.13.2 shellingham-1.5.4 starlette-0.45.3 sympy-1.14.0 tenacity-9.1.2 typer-0.15.3 uvicorn-0.34.2 uvloop-0.21.0 watchfiles-1.0.5 websockets-15.0.1 wrapt-1.17.2 zipp-3.21.0\n"
     ]
    },
    {
     "name": "stderr",
     "output_type": "stream",
     "text": [
      "/Users/ianphil/src/psychic_rag_doe/.venv/lib/python3.11/site-packages/tqdm/auto.py:21: TqdmWarning: IProgress not found. Please update jupyter and ipywidgets. See https://ipywidgets.readthedocs.io/en/stable/user_install.html\n",
      "  from .autonotebook import tqdm as notebook_tqdm\n",
      "None of PyTorch, TensorFlow >= 2.0, or Flax have been found. Models won't be available and only tokenizers, configuration and file/data utilities can be used.\n"
     ]
    },
    {
     "name": "stdout",
     "output_type": "stream",
     "text": [
      "Dependencies loaded successfully!\n"
     ]
    }
   ],
   "source": [
    "# Install necessary dependencies (uncomment if needed)\n",
    "!pip install chromadb transformers openai scikit-learn pandas matplotlib seaborn python-dotenv tqdm\n",
    "\n",
    "import chromadb\n",
    "from chromadb.utils import embedding_functions\n",
    "import pandas as pd\n",
    "import numpy as np\n",
    "from transformers import GPT2TokenizerFast\n",
    "from sklearn.feature_extraction.text import TfidfVectorizer\n",
    "from sklearn.metrics.pairwise import cosine_similarity\n",
    "import glob\n",
    "import os\n",
    "import time\n",
    "from dotenv import load_dotenv\n",
    "import matplotlib.pyplot as plt\n",
    "import seaborn as sns\n",
    "from tqdm.auto import tqdm\n",
    "\n",
    "# Load environment variables\n",
    "load_dotenv()\n",
    "\n",
    "print(\"Dependencies loaded successfully!\")"
   ]
  },
  {
   "cell_type": "markdown",
   "id": "e5a67ab6",
   "metadata": {},
   "source": [
    "## 2. Initialize ChromaDB and Tokenizer\n",
    "\n",
    "Now we'll set up ChromaDB with the OpenAI embedding function and our tokenizer for chunking."
   ]
  },
  {
   "cell_type": "code",
   "execution_count": 20,
   "id": "43aa6f73",
   "metadata": {},
   "outputs": [
    {
     "name": "stdout",
     "output_type": "stream",
     "text": [
      "Deleted existing collection\n",
      "ChromaDB and tokenizer initialized!\n"
     ]
    }
   ],
   "source": [
    "# Initialize OpenAI embedding function\n",
    "openai_ef = embedding_functions.OpenAIEmbeddingFunction(\n",
    "    api_key=os.getenv(\"OPENAI_API_KEY\"),\n",
    "    model_name=\"text-embedding-ada-002\"\n",
    ")\n",
    "\n",
    "# Initialize ChromaDB\n",
    "client = chromadb.Client()\n",
    "\n",
    "# Delete collection if it already exists (to avoid duplicates)\n",
    "try:\n",
    "    client.delete_collection(name=\"openai_cookbook_docs\")\n",
    "    print(\"Deleted existing collection\")\n",
    "except:\n",
    "    print(\"No existing collection found\")\n",
    "\n",
    "# Create a new collection\n",
    "collection = client.create_collection(\n",
    "    name=\"openai_cookbook_docs\",\n",
    "    embedding_function=openai_ef\n",
    ")\n",
    "\n",
    "# Setup tokenizer for chunking\n",
    "tokenizer = GPT2TokenizerFast.from_pretrained(\"gpt2\")\n",
    "\n",
    "print(\"ChromaDB and tokenizer initialized!\")"
   ]
  },
  {
   "cell_type": "markdown",
   "id": "c7c42798",
   "metadata": {},
   "source": [
    "## 3. Load and Process Documents\n",
    "\n",
    "We'll load the OpenAI cookbook markdown files and process them into chunks."
   ]
  },
  {
   "cell_type": "code",
   "execution_count": 24,
   "id": "13ac806a",
   "metadata": {},
   "outputs": [
    {
     "name": "stdout",
     "output_type": "stream",
     "text": [
      "Found 34 markdown files.\n",
      "Loaded 34 documents.\n",
      "Sample document produced 2 chunks.\n",
      "First chunk: # Text comparison examples\n",
      "\n",
      "The [OpenAI API embeddings endpoint](https://beta.openai.com/docs/guides/embeddings) can be used to measure relatedness or similarity between pieces of text.\n",
      "\n",
      "By leveraging GPT-3's understanding of text, these embeddings [achieved state-of-the-art results](https://arxiv.org/abs/2201.10005) on benchmarks in unsupervised learning and transfer learning settings.\n",
      "\n",
      "Embeddings can be used for semantic search, recommendations, cluster analysis, near-duplicate detection, and ...\n"
     ]
    }
   ],
   "source": [
    "# Load markdown files\n",
    "md_files = glob.glob(\"data/openai-cookbook-main/**/*.md\", recursive=True)\n",
    "print(f\"Found {len(md_files)} markdown files.\")\n",
    "\n",
    "# Load documents\n",
    "docs = []\n",
    "for path in md_files:\n",
    "    with open(path, 'r', encoding='utf-8') as f:\n",
    "        docs.append(f.read())\n",
    "\n",
    "print(f\"Loaded {len(docs)} documents.\")\n",
    "\n",
    "# Chunking function (using fixed chunk size of 250 tokens)\n",
    "def chunk_text(text, chunk_size=500):\n",
    "    tokens = tokenizer.encode(text)\n",
    "    chunks = [\n",
    "        tokenizer.decode(tokens[i:i+chunk_size])\n",
    "        for i in range(0, len(tokens), chunk_size)\n",
    "    ]\n",
    "    return chunks\n",
    "\n",
    "# Test chunking on a sample document\n",
    "sample_doc = docs[3] if docs else \"Sample document for testing chunking.\"\n",
    "sample_chunks = chunk_text(sample_doc)\n",
    "print(f\"Sample document produced {len(sample_chunks)} chunks.\")\n",
    "print(f\"First chunk: {sample_chunks[0][:500]}...\")"
   ]
  },
  {
   "cell_type": "markdown",
   "id": "273966ff",
   "metadata": {},
   "source": [
    "## 4. Add Documents to ChromaDB\n",
    "\n",
    "Next, we'll chunk all documents and add them to ChromaDB with metadata."
   ]
  },
  {
   "cell_type": "code",
   "execution_count": 25,
   "id": "2f6420d9",
   "metadata": {},
   "outputs": [
    {
     "name": "stdout",
     "output_type": "stream",
     "text": [
      "Processing documents and adding to ChromaDB...\n"
     ]
    },
    {
     "name": "stderr",
     "output_type": "stream",
     "text": [
      "  6%|██████                                                                                                  | 2/34 [00:01<00:17,  1.82it/s]Token indices sequence length is longer than the specified maximum sequence length for this model (2110 > 1024). Running this sequence through the model will result in indexing errors\n",
      "100%|███████████████████████████████████████████████████████████████████████████████████████████████████████| 34/34 [00:15<00:00,  2.23it/s]"
     ]
    },
    {
     "name": "stdout",
     "output_type": "stream",
     "text": [
      "Added 210 chunks to ChromaDB.\n"
     ]
    },
    {
     "name": "stderr",
     "output_type": "stream",
     "text": [
      "\n"
     ]
    }
   ],
   "source": [
    "# Process and add documents to ChromaDB\n",
    "all_chunks = []  # We'll collect all chunks for TF-IDF later\n",
    "chunk_mapping = {}  # Map to connect TF-IDF indices to ChromaDB IDs\n",
    "\n",
    "print(\"Processing documents and adding to ChromaDB...\")\n",
    "\n",
    "for i, doc in enumerate(tqdm(docs)):\n",
    "    chunks = chunk_text(doc)\n",
    "    \n",
    "    if len(chunks) > 0:\n",
    "        # Save all chunks for TF-IDF\n",
    "        doc_start_idx = len(all_chunks)\n",
    "        all_chunks.extend(chunks)\n",
    "        \n",
    "        # Create IDs and metadata\n",
    "        ids = [f\"doc_{i}_chunk_{j}\" for j in range(len(chunks))]\n",
    "        metadatas = [{\n",
    "            \"source\": md_files[i],\n",
    "            \"doc_index\": i,\n",
    "            \"chunk_index\": j,\n",
    "            \"total_chunks\": len(chunks)\n",
    "        } for j in range(len(chunks))]\n",
    "        \n",
    "        # Map indices to IDs\n",
    "        for j, chunk_id in enumerate(ids):\n",
    "            chunk_mapping[doc_start_idx + j] = chunk_id\n",
    "        \n",
    "        # Add to ChromaDB\n",
    "        collection.add(\n",
    "            documents=chunks,\n",
    "            ids=ids,\n",
    "            metadatas=metadatas\n",
    "        )\n",
    "\n",
    "print(f\"Added {len(all_chunks)} chunks to ChromaDB.\")"
   ]
  },
  {
   "cell_type": "markdown",
   "id": "707d867c",
   "metadata": {},
   "source": [
    "## 5. Build TF-IDF Model for Hybrid Search\n",
    "\n",
    "We'll create a TF-IDF model for keyword-based search to complement vector search."
   ]
  },
  {
   "cell_type": "code",
   "execution_count": 26,
   "id": "5fd0756c",
   "metadata": {
    "lines_to_next_cell": 1
   },
   "outputs": [
    {
     "name": "stdout",
     "output_type": "stream",
     "text": [
      "Built TF-IDF matrix with shape: (210, 4231)\n"
     ]
    }
   ],
   "source": [
    "# Build TF-IDF vectorizer for keyword search\n",
    "tfidf_vectorizer = TfidfVectorizer(max_features=5000)\n",
    "tfidf_matrix = tfidf_vectorizer.fit_transform(all_chunks)\n",
    "\n",
    "print(f\"Built TF-IDF matrix with shape: {tfidf_matrix.shape}\")"
   ]
  },
  {
   "cell_type": "markdown",
   "id": "ad6b7c61",
   "metadata": {},
   "source": [
    "## 6. Implement the Retrieval Function\n",
    "\n",
    "Now we'll create a function that can use different retrieval methods based on our experimental factors."
   ]
  },
  {
   "cell_type": "code",
   "execution_count": 27,
   "id": "f4adabf2",
   "metadata": {
    "lines_to_next_cell": 1
   },
   "outputs": [],
   "source": [
    "def retrieve_with_factors(query, retrieval_method=\"vector\", \n",
    "                         filtering=False, similarity_threshold=0.5,\n",
    "                         n_results=5):\n",
    "    \"\"\"\n",
    "    Retrieve relevant chunks based on experimental factors.\n",
    "    \n",
    "    Args:\n",
    "        query: User query string\n",
    "        retrieval_method: \"vector\" or \"hybrid\"\n",
    "        filtering: Whether to apply metadata filtering\n",
    "        similarity_threshold: Minimum similarity score to include\n",
    "        n_results: Maximum number of results to return\n",
    "        \n",
    "    Returns:\n",
    "        List of (text, score, metadata) tuples\n",
    "    \"\"\"\n",
    "    results = []\n",
    "    \n",
    "    # Vector search component (always used)\n",
    "    where_clause = None\n",
    "    if filtering:\n",
    "        # Example metadata filtering - adjust based on your needs\n",
    "        # In a real system, this could be derived from the query\n",
    "        where_clause = {\"doc_index\": {\"$lte\": 20}}  # Limit to first 20 docs\n",
    "    \n",
    "    vector_results = collection.query(\n",
    "        query_texts=[query],\n",
    "        n_results=n_results,\n",
    "        where=where_clause,\n",
    "        include=[\"documents\", \"metadatas\", \"distances\"]\n",
    "    )\n",
    "    \n",
    "    # Process vector results\n",
    "    vector_entries = []\n",
    "    for i, (doc, dist, metadata) in enumerate(zip(\n",
    "            vector_results['documents'][0], \n",
    "            vector_results['distances'][0],\n",
    "            vector_results['metadatas'][0])):\n",
    "        # Convert distance to similarity (1 - distance)\n",
    "        similarity = 1 - dist\n",
    "        if similarity >= similarity_threshold:\n",
    "            vector_entries.append((doc, float(similarity), metadata))\n",
    "    \n",
    "    # For hybrid search, add keyword component\n",
    "    if retrieval_method == \"hybrid\":\n",
    "        # Transform query with TFIDF\n",
    "        query_vector = tfidf_vectorizer.transform([query])\n",
    "        \n",
    "        # Calculate cosine similarity scores\n",
    "        tfidf_scores = cosine_similarity(tfidf_matrix, query_vector).flatten()\n",
    "        \n",
    "        # Get top matches\n",
    "        top_indices = np.argsort(tfidf_scores)[-n_results:][::-1]\n",
    "        \n",
    "        # Add keyword results if they meet threshold\n",
    "        for idx in top_indices:\n",
    "            if tfidf_scores[idx] >= similarity_threshold:\n",
    "                # Get the corresponding chunk and metadata\n",
    "                chunk_id = chunk_mapping.get(idx)\n",
    "                if chunk_id:\n",
    "                    # Get document from ChromaDB by ID\n",
    "                    result = collection.get(ids=[chunk_id], include=[\"documents\", \"metadatas\"])\n",
    "                    if result and result[\"documents\"]:\n",
    "                        keyword_entry = (result[\"documents\"][0], \n",
    "                                       float(tfidf_scores[idx]), \n",
    "                                       result[\"metadatas\"][0])\n",
    "                        \n",
    "                        # Check if it's already in vector results\n",
    "                        if not any(entry[0] == keyword_entry[0] for entry in vector_entries):\n",
    "                            vector_entries.append(keyword_entry)\n",
    "    \n",
    "    # Sort combined results by score (descending)\n",
    "    vector_entries.sort(key=lambda x: x[1], reverse=True)\n",
    "    \n",
    "    # Return top results\n",
    "    return vector_entries[:n_results]"
   ]
  },
  {
   "cell_type": "markdown",
   "id": "b45de451",
   "metadata": {},
   "source": [
    "## 7. Create Evaluation Function\n",
    "\n",
    "This function will evaluate each experimental condition and collect scores with justifications."
   ]
  },
  {
   "cell_type": "code",
   "execution_count": 28,
   "id": "eec4722f",
   "metadata": {
    "lines_to_next_cell": 1
   },
   "outputs": [],
   "source": [
    "def evaluate_condition(retrieval_method, filtering, similarity_threshold, \n",
    "                       test_queries):\n",
    "    \"\"\"\n",
    "    Evaluate a specific experimental condition\n",
    "    \"\"\"\n",
    "    results = []\n",
    "    \n",
    "    for query in test_queries:\n",
    "        # Retrieve results with the current factor settings\n",
    "        retrieved = retrieve_with_factors(\n",
    "            query, \n",
    "            retrieval_method=retrieval_method,\n",
    "            filtering=filtering,\n",
    "            similarity_threshold=similarity_threshold\n",
    "        )\n",
    "        \n",
    "        # Display for manual scoring\n",
    "        print(\"\\n\" + \"=\"*80)\n",
    "        print(f\"Query: {query}\")\n",
    "        print(f\"Condition: {retrieval_method}, filtering={filtering}, threshold={similarity_threshold}\")\n",
    "        \n",
    "        # Show top result\n",
    "        if retrieved:\n",
    "            top_chunk = retrieved[0][0]\n",
    "            top_score = retrieved[0][1]\n",
    "            print(f\"\\nTop result (similarity score: {top_score:.4f}):\")\n",
    "            print(\"-\"*50)\n",
    "            print(f\"{top_chunk[:300]}...\")\n",
    "            print(\"-\"*50)\n",
    "            \n",
    "            # Get manual score\n",
    "            score = int(input(\"\\nRelevance score (1-5): \"))\n",
    "            \n",
    "            # Get justification\n",
    "            justification = input(\"Justification for score: \")\n",
    "            \n",
    "            results.append({\n",
    "                \"query\": query,\n",
    "                \"retrieval_method\": retrieval_method,\n",
    "                \"filtering\": filtering,\n",
    "                \"similarity_threshold\": similarity_threshold,\n",
    "                \"top_text\": top_chunk,\n",
    "                \"model_score\": top_score,\n",
    "                \"human_score\": score,\n",
    "                \"justification\": justification\n",
    "            })\n",
    "        else:\n",
    "            print(\"No results returned.\")\n",
    "    \n",
    "    return pd.DataFrame(results)"
   ]
  },
  {
   "cell_type": "markdown",
   "id": "1c72c490",
   "metadata": {},
   "source": [
    "## 8. Define Test Queries\n",
    "\n",
    "Let's define our test queries that will be used across all experimental conditions."
   ]
  },
  {
   "cell_type": "code",
   "execution_count": 29,
   "id": "66708cc2",
   "metadata": {},
   "outputs": [
    {
     "name": "stdout",
     "output_type": "stream",
     "text": [
      "Test queries defined:\n",
      "1. How can I use the DALL·E-3 model to generate images, and what are the key differences in parameters compared to DALL·E-2?\n",
      "2. What are the new features introduced in DALL·E-3, such as `style` and `quality` parameters, and how do they affect image generation?\n",
      "3. Can you provide an example of how to build an agent using the Node.js SDK that can determine a user's location and current weather to suggest activities?\n",
      "4. What steps are involved in setting up a Supabase Vector database to store and query OpenAI embeddings for semantic search?\n",
      "5. How do you create a SQL table in Supabase that is suitable for storing vector embeddings, and what data type is used for the embeddings?\n",
      "6. What is the process for generating OpenAI embeddings using their JavaScript client and storing them in a Supabase SQL table?\n",
      "7. How can semantic search be performed over embeddings stored in Supabase Vector using a Postgres function and the Supabase JavaScript client?\n",
      "8. How can OpenAI's Realtime API be used to build a multi-lingual, one-way translation workflow using WebSockets?\n",
      "9. What is the high-level architecture of an application that uses the Realtime API for conversational translation, involving a speaker app and a listener app?\n",
      "10. How are language-specific prompts and sessions managed when using the Realtime API for translating speech into multiple languages simultaneously?\n"
     ]
    }
   ],
   "source": [
    "# Define test queries\n",
    "test_queries = [\n",
    "    \"How can I use the DALL·E-3 model to generate images, and what are the key differences in parameters compared to DALL·E-2?\",\n",
    "    \"What are the new features introduced in DALL·E-3, such as `style` and `quality` parameters, and how do they affect image generation?\",\n",
    "    \"Can you provide an example of how to build an agent using the Node.js SDK that can determine a user's location and current weather to suggest activities?\",\n",
    "    \"What steps are involved in setting up a Supabase Vector database to store and query OpenAI embeddings for semantic search?\",\n",
    "    \"How do you create a SQL table in Supabase that is suitable for storing vector embeddings, and what data type is used for the embeddings?\",\n",
    "    \"What is the process for generating OpenAI embeddings using their JavaScript client and storing them in a Supabase SQL table?\",\n",
    "    \"How can semantic search be performed over embeddings stored in Supabase Vector using a Postgres function and the Supabase JavaScript client?\",\n",
    "    \"How can OpenAI's Realtime API be used to build a multi-lingual, one-way translation workflow using WebSockets?\",\n",
    "    \"What is the high-level architecture of an application that uses the Realtime API for conversational translation, involving a speaker app and a listener app?\",\n",
    "    \"How are language-specific prompts and sessions managed when using the Realtime API for translating speech into multiple languages simultaneously?\"\n",
    "]\n",
    "\n",
    "print(\"Test queries defined:\")\n",
    "for i, query in enumerate(test_queries):\n",
    "    print(f\"{i+1}. {query}\")"
   ]
  },
  {
   "cell_type": "markdown",
   "id": "c56d4cf0",
   "metadata": {},
   "source": [
    "## 9. Run the Full Factorial Experiment\n",
    "\n",
    "Now we'll execute the full factorial design with all combinations of our factors."
   ]
  },
  {
   "cell_type": "code",
   "execution_count": 30,
   "id": "5f1c260b",
   "metadata": {},
   "outputs": [
    {
     "name": "stdout",
     "output_type": "stream",
     "text": [
      "Full factorial design has 8 conditions:\n",
      "Condition 1: {'retrieval_method': 'vector', 'filtering': False, 'similarity_threshold': 0.5}\n",
      "Condition 2: {'retrieval_method': 'vector', 'filtering': False, 'similarity_threshold': 0.75}\n",
      "Condition 3: {'retrieval_method': 'vector', 'filtering': True, 'similarity_threshold': 0.5}\n",
      "Condition 4: {'retrieval_method': 'vector', 'filtering': True, 'similarity_threshold': 0.75}\n",
      "Condition 5: {'retrieval_method': 'hybrid', 'filtering': False, 'similarity_threshold': 0.5}\n",
      "Condition 6: {'retrieval_method': 'hybrid', 'filtering': False, 'similarity_threshold': 0.75}\n",
      "Condition 7: {'retrieval_method': 'hybrid', 'filtering': True, 'similarity_threshold': 0.5}\n",
      "Condition 8: {'retrieval_method': 'hybrid', 'filtering': True, 'similarity_threshold': 0.75}\n"
     ]
    }
   ],
   "source": [
    "# Define factor levels\n",
    "retrieval_methods = [\"vector\", \"hybrid\"]\n",
    "filtering_options = [False, True]\n",
    "similarity_thresholds = [0.5, 0.75]\n",
    "\n",
    "# Create factorial design\n",
    "factorial_design = []\n",
    "for retrieval_method in retrieval_methods:\n",
    "    for filtering in filtering_options:\n",
    "        for threshold in similarity_thresholds:\n",
    "            factorial_design.append({\n",
    "                \"retrieval_method\": retrieval_method,\n",
    "                \"filtering\": filtering,\n",
    "                \"similarity_threshold\": threshold\n",
    "            })\n",
    "\n",
    "print(f\"Full factorial design has {len(factorial_design)} conditions:\")\n",
    "for i, condition in enumerate(factorial_design):\n",
    "    print(f\"Condition {i+1}: {condition}\")"
   ]
  },
  {
   "cell_type": "code",
   "execution_count": 31,
   "id": "9a60cbbe",
   "metadata": {},
   "outputs": [
    {
     "name": "stdout",
     "output_type": "stream",
     "text": [
      "\n",
      "================================================================================\n",
      "Running condition: {'retrieval_method': 'vector', 'filtering': False, 'similarity_threshold': 0.5}\n",
      "================================================================================\n",
      "\n",
      "================================================================================\n",
      "Query: How can I use the DALL·E-3 model to generate images, and what are the key differences in parameters compared to DALL·E-2?\n",
      "Condition: vector, filtering=False, threshold=0.5\n",
      "No results returned.\n",
      "\n",
      "================================================================================\n",
      "Query: What are the new features introduced in DALL·E-3, such as `style` and `quality` parameters, and how do they affect image generation?\n",
      "Condition: vector, filtering=False, threshold=0.5\n",
      "No results returned.\n",
      "\n",
      "================================================================================\n",
      "Query: Can you provide an example of how to build an agent using the Node.js SDK that can determine a user's location and current weather to suggest activities?\n",
      "Condition: vector, filtering=False, threshold=0.5\n",
      "\n",
      "Top result (similarity score: 0.5510):\n",
      "--------------------------------------------------\n",
      "js) for Solution 1 and [this file](https://github.com/openai/openai-cookbook/blob/main/examples/chatgpt/sharepoint_azure_function/solution_two_preprocessing.js) for Solution 2.  Save the function. \n",
      "\n",
      "\n",
      "> **This code is meant to be directional** - while it should work out of the box, it is designed to ...\n",
      "--------------------------------------------------\n"
     ]
    },
    {
     "name": "stdin",
     "output_type": "stream",
     "text": [
      "\n",
      "Relevance score (1-5):  1\n",
      "Justification for score:  nothing about node, location, weather\n"
     ]
    },
    {
     "name": "stdout",
     "output_type": "stream",
     "text": [
      "\n",
      "================================================================================\n",
      "Query: What steps are involved in setting up a Supabase Vector database to store and query OpenAI embeddings for semantic search?\n",
      "Condition: vector, filtering=False, threshold=0.5\n",
      "\n",
      "Top result (similarity score: 0.7640):\n",
      "--------------------------------------------------\n",
      "# Supabase Vector Database\n",
      "\n",
      "[Supabase](https://supabase.com/docs) is an open-source Firebase alternative built on top of [Postgres](https://en.wikipedia.org/wiki/PostgreSQL), a production-grade SQL database.\n",
      "\n",
      "[Supabase Vector](https://supabase.com/docs/guides/ai) is a vector toolkit built on [pgvect...\n",
      "--------------------------------------------------\n"
     ]
    },
    {
     "name": "stdin",
     "output_type": "stream",
     "text": [
      "\n",
      "Relevance score (1-5):  3\n",
      "Justification for score:  found the right section\n"
     ]
    },
    {
     "name": "stdout",
     "output_type": "stream",
     "text": [
      "\n",
      "================================================================================\n",
      "Query: How do you create a SQL table in Supabase that is suitable for storing vector embeddings, and what data type is used for the embeddings?\n",
      "Condition: vector, filtering=False, threshold=0.5\n",
      "\n",
      "Top result (similarity score: 0.7192):\n",
      "--------------------------------------------------\n",
      "# Supabase Vector Database\n",
      "\n",
      "[Supabase](https://supabase.com/docs) is an open-source Firebase alternative built on top of [Postgres](https://en.wikipedia.org/wiki/PostgreSQL), a production-grade SQL database.\n",
      "\n",
      "[Supabase Vector](https://supabase.com/docs/guides/ai) is a vector toolkit built on [pgvect...\n",
      "--------------------------------------------------\n"
     ]
    },
    {
     "name": "stdin",
     "output_type": "stream",
     "text": [
      "\n",
      "Relevance score (1-5):  2\n",
      "Justification for score:  section about sup abase but not on context\n"
     ]
    },
    {
     "name": "stdout",
     "output_type": "stream",
     "text": [
      "\n",
      "================================================================================\n",
      "Query: What is the process for generating OpenAI embeddings using their JavaScript client and storing them in a Supabase SQL table?\n",
      "Condition: vector, filtering=False, threshold=0.5\n",
      "\n",
      "Top result (similarity score: 0.6490):\n",
      "--------------------------------------------------\n",
      "# Supabase Vector Database\n",
      "\n",
      "[Supabase](https://supabase.com/docs) is an open-source Firebase alternative built on top of [Postgres](https://en.wikipedia.org/wiki/PostgreSQL), a production-grade SQL database.\n",
      "\n",
      "[Supabase Vector](https://supabase.com/docs/guides/ai) is a vector toolkit built on [pgvect...\n",
      "--------------------------------------------------\n"
     ]
    },
    {
     "name": "stdin",
     "output_type": "stream",
     "text": [
      "\n",
      "Relevance score (1-5):  2\n",
      "Justification for score:  found section on sup abase but not contxt\n"
     ]
    },
    {
     "name": "stdout",
     "output_type": "stream",
     "text": [
      "\n",
      "================================================================================\n",
      "Query: How can semantic search be performed over embeddings stored in Supabase Vector using a Postgres function and the Supabase JavaScript client?\n",
      "Condition: vector, filtering=False, threshold=0.5\n",
      "\n",
      "Top result (similarity score: 0.6897):\n",
      "--------------------------------------------------\n",
      "# Supabase Vector Database\n",
      "\n",
      "[Supabase](https://supabase.com/docs) is an open-source Firebase alternative built on top of [Postgres](https://en.wikipedia.org/wiki/PostgreSQL), a production-grade SQL database.\n",
      "\n",
      "[Supabase Vector](https://supabase.com/docs/guides/ai) is a vector toolkit built on [pgvect...\n",
      "--------------------------------------------------\n"
     ]
    },
    {
     "name": "stdin",
     "output_type": "stream",
     "text": [
      "\n",
      "Relevance score (1-5):  2\n",
      "Justification for score:  section on supabase but not contextual\n"
     ]
    },
    {
     "name": "stdout",
     "output_type": "stream",
     "text": [
      "\n",
      "================================================================================\n",
      "Query: How can OpenAI's Realtime API be used to build a multi-lingual, one-way translation workflow using WebSockets?\n",
      "Condition: vector, filtering=False, threshold=0.5\n",
      "\n",
      "Top result (similarity score: 0.7616):\n",
      "--------------------------------------------------\n",
      "# Translation Demo\n",
      "\n",
      "This project demonstrates how to use the [OpenAI Realtime API](https://platform.openai.com/docs/guides/realtime) to build a one-way translation application with WebSockets. It is implemented using the [Realtime + Websockets integration](https://platform.openai.com/docs/guides/rea...\n",
      "--------------------------------------------------\n"
     ]
    },
    {
     "name": "stdin",
     "output_type": "stream",
     "text": [
      "\n",
      "Relevance score (1-5):  4\n",
      "Justification for score:  found the demo section of doc, and keywords match\n"
     ]
    },
    {
     "name": "stdout",
     "output_type": "stream",
     "text": [
      "\n",
      "================================================================================\n",
      "Query: What is the high-level architecture of an application that uses the Realtime API for conversational translation, involving a speaker app and a listener app?\n",
      "Condition: vector, filtering=False, threshold=0.5\n",
      "\n",
      "Top result (similarity score: 0.6840):\n",
      "--------------------------------------------------\n",
      "# Translation Demo\n",
      "\n",
      "This project demonstrates how to use the [OpenAI Realtime API](https://platform.openai.com/docs/guides/realtime) to build a one-way translation application with WebSockets. It is implemented using the [Realtime + Websockets integration](https://platform.openai.com/docs/guides/rea...\n",
      "--------------------------------------------------\n"
     ]
    },
    {
     "name": "stdin",
     "output_type": "stream",
     "text": [
      "\n",
      "Relevance score (1-5):  2\n",
      "Justification for score:  Might be the right document but I see nothing about architecture\n"
     ]
    },
    {
     "name": "stdout",
     "output_type": "stream",
     "text": [
      "\n",
      "================================================================================\n",
      "Query: How are language-specific prompts and sessions managed when using the Realtime API for translating speech into multiple languages simultaneously?\n",
      "Condition: vector, filtering=False, threshold=0.5\n",
      "\n",
      "Top result (similarity score: 0.6087):\n",
      "--------------------------------------------------\n",
      "# Translation Demo\n",
      "\n",
      "This project demonstrates how to use the [OpenAI Realtime API](https://platform.openai.com/docs/guides/realtime) to build a one-way translation application with WebSockets. It is implemented using the [Realtime + Websockets integration](https://platform.openai.com/docs/guides/rea...\n",
      "--------------------------------------------------\n"
     ]
    },
    {
     "name": "stdin",
     "output_type": "stream",
     "text": [
      "\n",
      "Relevance score (1-5):  2\n",
      "Justification for score:  correct document doesn't answer question\n"
     ]
    },
    {
     "name": "stdout",
     "output_type": "stream",
     "text": [
      "\n",
      "================================================================================\n",
      "Running condition: {'retrieval_method': 'vector', 'filtering': False, 'similarity_threshold': 0.75}\n",
      "================================================================================\n",
      "\n",
      "================================================================================\n",
      "Query: How can I use the DALL·E-3 model to generate images, and what are the key differences in parameters compared to DALL·E-2?\n",
      "Condition: vector, filtering=False, threshold=0.75\n",
      "No results returned.\n",
      "\n",
      "================================================================================\n",
      "Query: What are the new features introduced in DALL·E-3, such as `style` and `quality` parameters, and how do they affect image generation?\n",
      "Condition: vector, filtering=False, threshold=0.75\n",
      "No results returned.\n",
      "\n",
      "================================================================================\n",
      "Query: Can you provide an example of how to build an agent using the Node.js SDK that can determine a user's location and current weather to suggest activities?\n",
      "Condition: vector, filtering=False, threshold=0.75\n",
      "No results returned.\n",
      "\n",
      "================================================================================\n",
      "Query: What steps are involved in setting up a Supabase Vector database to store and query OpenAI embeddings for semantic search?\n",
      "Condition: vector, filtering=False, threshold=0.75\n",
      "\n",
      "Top result (similarity score: 0.7640):\n",
      "--------------------------------------------------\n",
      "# Supabase Vector Database\n",
      "\n",
      "[Supabase](https://supabase.com/docs) is an open-source Firebase alternative built on top of [Postgres](https://en.wikipedia.org/wiki/PostgreSQL), a production-grade SQL database.\n",
      "\n",
      "[Supabase Vector](https://supabase.com/docs/guides/ai) is a vector toolkit built on [pgvect...\n",
      "--------------------------------------------------\n"
     ]
    },
    {
     "name": "stdin",
     "output_type": "stream",
     "text": [
      "\n",
      "Relevance score (1-5):  2\n",
      "Justification for score:  2\n"
     ]
    },
    {
     "name": "stdout",
     "output_type": "stream",
     "text": [
      "\n",
      "================================================================================\n",
      "Query: How do you create a SQL table in Supabase that is suitable for storing vector embeddings, and what data type is used for the embeddings?\n",
      "Condition: vector, filtering=False, threshold=0.75\n",
      "No results returned.\n",
      "\n",
      "================================================================================\n",
      "Query: What is the process for generating OpenAI embeddings using their JavaScript client and storing them in a Supabase SQL table?\n",
      "Condition: vector, filtering=False, threshold=0.75\n",
      "No results returned.\n",
      "\n",
      "================================================================================\n",
      "Query: How can semantic search be performed over embeddings stored in Supabase Vector using a Postgres function and the Supabase JavaScript client?\n",
      "Condition: vector, filtering=False, threshold=0.75\n",
      "No results returned.\n",
      "\n",
      "================================================================================\n",
      "Query: How can OpenAI's Realtime API be used to build a multi-lingual, one-way translation workflow using WebSockets?\n",
      "Condition: vector, filtering=False, threshold=0.75\n",
      "\n",
      "Top result (similarity score: 0.7616):\n",
      "--------------------------------------------------\n",
      "# Translation Demo\n",
      "\n",
      "This project demonstrates how to use the [OpenAI Realtime API](https://platform.openai.com/docs/guides/realtime) to build a one-way translation application with WebSockets. It is implemented using the [Realtime + Websockets integration](https://platform.openai.com/docs/guides/rea...\n",
      "--------------------------------------------------\n"
     ]
    },
    {
     "name": "stdin",
     "output_type": "stream",
     "text": [
      "\n",
      "Relevance score (1-5):  2\n",
      "Justification for score:  2\n"
     ]
    },
    {
     "name": "stdout",
     "output_type": "stream",
     "text": [
      "\n",
      "================================================================================\n",
      "Query: What is the high-level architecture of an application that uses the Realtime API for conversational translation, involving a speaker app and a listener app?\n",
      "Condition: vector, filtering=False, threshold=0.75\n",
      "No results returned.\n",
      "\n",
      "================================================================================\n",
      "Query: How are language-specific prompts and sessions managed when using the Realtime API for translating speech into multiple languages simultaneously?\n",
      "Condition: vector, filtering=False, threshold=0.75\n",
      "No results returned.\n",
      "\n",
      "================================================================================\n",
      "Running condition: {'retrieval_method': 'vector', 'filtering': True, 'similarity_threshold': 0.5}\n",
      "================================================================================\n",
      "\n",
      "================================================================================\n",
      "Query: How can I use the DALL·E-3 model to generate images, and what are the key differences in parameters compared to DALL·E-2?\n",
      "Condition: vector, filtering=True, threshold=0.5\n",
      "No results returned.\n",
      "\n",
      "================================================================================\n",
      "Query: What are the new features introduced in DALL·E-3, such as `style` and `quality` parameters, and how do they affect image generation?\n",
      "Condition: vector, filtering=True, threshold=0.5\n",
      "No results returned.\n",
      "\n",
      "================================================================================\n",
      "Query: Can you provide an example of how to build an agent using the Node.js SDK that can determine a user's location and current weather to suggest activities?\n",
      "Condition: vector, filtering=True, threshold=0.5\n",
      "\n",
      "Top result (similarity score: 0.5510):\n",
      "--------------------------------------------------\n",
      "js) for Solution 1 and [this file](https://github.com/openai/openai-cookbook/blob/main/examples/chatgpt/sharepoint_azure_function/solution_two_preprocessing.js) for Solution 2.  Save the function. \n",
      "\n",
      "\n",
      "> **This code is meant to be directional** - while it should work out of the box, it is designed to ...\n",
      "--------------------------------------------------\n"
     ]
    },
    {
     "name": "stdin",
     "output_type": "stream",
     "text": [
      "\n",
      "Relevance score (1-5):  1\n",
      "Justification for score:  1\n"
     ]
    },
    {
     "name": "stdout",
     "output_type": "stream",
     "text": [
      "\n",
      "================================================================================\n",
      "Query: What steps are involved in setting up a Supabase Vector database to store and query OpenAI embeddings for semantic search?\n",
      "Condition: vector, filtering=True, threshold=0.5\n",
      "\n",
      "Top result (similarity score: 0.7640):\n",
      "--------------------------------------------------\n",
      "# Supabase Vector Database\n",
      "\n",
      "[Supabase](https://supabase.com/docs) is an open-source Firebase alternative built on top of [Postgres](https://en.wikipedia.org/wiki/PostgreSQL), a production-grade SQL database.\n",
      "\n",
      "[Supabase Vector](https://supabase.com/docs/guides/ai) is a vector toolkit built on [pgvect...\n",
      "--------------------------------------------------\n"
     ]
    },
    {
     "name": "stdin",
     "output_type": "stream",
     "text": [
      "\n",
      "Relevance score (1-5):  2\n",
      "Justification for score:  2\n"
     ]
    },
    {
     "name": "stdout",
     "output_type": "stream",
     "text": [
      "\n",
      "================================================================================\n",
      "Query: How do you create a SQL table in Supabase that is suitable for storing vector embeddings, and what data type is used for the embeddings?\n",
      "Condition: vector, filtering=True, threshold=0.5\n",
      "\n",
      "Top result (similarity score: 0.7192):\n",
      "--------------------------------------------------\n",
      "# Supabase Vector Database\n",
      "\n",
      "[Supabase](https://supabase.com/docs) is an open-source Firebase alternative built on top of [Postgres](https://en.wikipedia.org/wiki/PostgreSQL), a production-grade SQL database.\n",
      "\n",
      "[Supabase Vector](https://supabase.com/docs/guides/ai) is a vector toolkit built on [pgvect...\n",
      "--------------------------------------------------\n"
     ]
    },
    {
     "name": "stdin",
     "output_type": "stream",
     "text": [
      "\n",
      "Relevance score (1-5):  2\n",
      "Justification for score:  2\n"
     ]
    },
    {
     "name": "stdout",
     "output_type": "stream",
     "text": [
      "\n",
      "================================================================================\n",
      "Query: What is the process for generating OpenAI embeddings using their JavaScript client and storing them in a Supabase SQL table?\n",
      "Condition: vector, filtering=True, threshold=0.5\n",
      "\n",
      "Top result (similarity score: 0.6490):\n",
      "--------------------------------------------------\n",
      "# Supabase Vector Database\n",
      "\n",
      "[Supabase](https://supabase.com/docs) is an open-source Firebase alternative built on top of [Postgres](https://en.wikipedia.org/wiki/PostgreSQL), a production-grade SQL database.\n",
      "\n",
      "[Supabase Vector](https://supabase.com/docs/guides/ai) is a vector toolkit built on [pgvect...\n",
      "--------------------------------------------------\n"
     ]
    },
    {
     "name": "stdin",
     "output_type": "stream",
     "text": [
      "\n",
      "Relevance score (1-5):  2\n",
      "Justification for score:  2\n"
     ]
    },
    {
     "name": "stdout",
     "output_type": "stream",
     "text": [
      "\n",
      "================================================================================\n",
      "Query: How can semantic search be performed over embeddings stored in Supabase Vector using a Postgres function and the Supabase JavaScript client?\n",
      "Condition: vector, filtering=True, threshold=0.5\n",
      "\n",
      "Top result (similarity score: 0.6897):\n",
      "--------------------------------------------------\n",
      "# Supabase Vector Database\n",
      "\n",
      "[Supabase](https://supabase.com/docs) is an open-source Firebase alternative built on top of [Postgres](https://en.wikipedia.org/wiki/PostgreSQL), a production-grade SQL database.\n",
      "\n",
      "[Supabase Vector](https://supabase.com/docs/guides/ai) is a vector toolkit built on [pgvect...\n",
      "--------------------------------------------------\n"
     ]
    },
    {
     "name": "stdin",
     "output_type": "stream",
     "text": [
      "\n",
      "Relevance score (1-5):  2\n",
      "Justification for score:  2\n"
     ]
    },
    {
     "name": "stdout",
     "output_type": "stream",
     "text": [
      "\n",
      "================================================================================\n",
      "Query: How can OpenAI's Realtime API be used to build a multi-lingual, one-way translation workflow using WebSockets?\n",
      "Condition: vector, filtering=True, threshold=0.5\n",
      "\n",
      "Top result (similarity score: 0.5599):\n",
      "--------------------------------------------------\n",
      "# How to work with large language models\n",
      "\n",
      "## How large language models work\n",
      "\n",
      "[Large language models][Large language models Blog Post] are functions that map text to text. Given an input string of text, a large language model predicts the text that should come next.\n",
      "\n",
      "The magic of large language model...\n",
      "--------------------------------------------------\n"
     ]
    },
    {
     "name": "stdin",
     "output_type": "stream",
     "text": [
      "\n",
      "Relevance score (1-5):  2\n",
      "Justification for score:  2\n"
     ]
    },
    {
     "name": "stdout",
     "output_type": "stream",
     "text": [
      "\n",
      "================================================================================\n",
      "Query: What is the high-level architecture of an application that uses the Realtime API for conversational translation, involving a speaker app and a listener app?\n",
      "Condition: vector, filtering=True, threshold=0.5\n",
      "\n",
      "Top result (similarity score: 0.5366):\n",
      "--------------------------------------------------\n",
      "M apps with data.\n",
      "- [LLMOps Database](https://www.reddit.com/r/LocalLLaMA/comments/1h4u7au/a_nobs_database_of_how_companies_actually_deploy/): Database of how companies actually deploy LLMs in production.\n",
      "- [LMQL](https://lmql.ai): A programming language for LLM interaction with support for typed pr...\n",
      "--------------------------------------------------\n"
     ]
    },
    {
     "name": "stdin",
     "output_type": "stream",
     "text": [
      "\n",
      "Relevance score (1-5):  1\n",
      "Justification for score:  1\n"
     ]
    },
    {
     "name": "stdout",
     "output_type": "stream",
     "text": [
      "\n",
      "================================================================================\n",
      "Query: How are language-specific prompts and sessions managed when using the Realtime API for translating speech into multiple languages simultaneously?\n",
      "Condition: vector, filtering=True, threshold=0.5\n",
      "\n",
      "Top result (similarity score: 0.5945):\n",
      "--------------------------------------------------\n",
      "# How to work with large language models\n",
      "\n",
      "## How large language models work\n",
      "\n",
      "[Large language models][Large language models Blog Post] are functions that map text to text. Given an input string of text, a large language model predicts the text that should come next.\n",
      "\n",
      "The magic of large language model...\n",
      "--------------------------------------------------\n"
     ]
    },
    {
     "name": "stdin",
     "output_type": "stream",
     "text": [
      "\n",
      "Relevance score (1-5):  1\n",
      "Justification for score:  1\n"
     ]
    },
    {
     "name": "stdout",
     "output_type": "stream",
     "text": [
      "\n",
      "================================================================================\n",
      "Running condition: {'retrieval_method': 'vector', 'filtering': True, 'similarity_threshold': 0.75}\n",
      "================================================================================\n",
      "\n",
      "================================================================================\n",
      "Query: How can I use the DALL·E-3 model to generate images, and what are the key differences in parameters compared to DALL·E-2?\n",
      "Condition: vector, filtering=True, threshold=0.75\n",
      "No results returned.\n",
      "\n",
      "================================================================================\n",
      "Query: What are the new features introduced in DALL·E-3, such as `style` and `quality` parameters, and how do they affect image generation?\n",
      "Condition: vector, filtering=True, threshold=0.75\n",
      "No results returned.\n",
      "\n",
      "================================================================================\n",
      "Query: Can you provide an example of how to build an agent using the Node.js SDK that can determine a user's location and current weather to suggest activities?\n",
      "Condition: vector, filtering=True, threshold=0.75\n",
      "No results returned.\n",
      "\n",
      "================================================================================\n",
      "Query: What steps are involved in setting up a Supabase Vector database to store and query OpenAI embeddings for semantic search?\n",
      "Condition: vector, filtering=True, threshold=0.75\n",
      "\n",
      "Top result (similarity score: 0.7640):\n",
      "--------------------------------------------------\n",
      "# Supabase Vector Database\n",
      "\n",
      "[Supabase](https://supabase.com/docs) is an open-source Firebase alternative built on top of [Postgres](https://en.wikipedia.org/wiki/PostgreSQL), a production-grade SQL database.\n",
      "\n",
      "[Supabase Vector](https://supabase.com/docs/guides/ai) is a vector toolkit built on [pgvect...\n",
      "--------------------------------------------------\n"
     ]
    },
    {
     "name": "stdin",
     "output_type": "stream",
     "text": [
      "\n",
      "Relevance score (1-5):  2\n",
      "Justification for score:  2\n"
     ]
    },
    {
     "name": "stdout",
     "output_type": "stream",
     "text": [
      "\n",
      "================================================================================\n",
      "Query: How do you create a SQL table in Supabase that is suitable for storing vector embeddings, and what data type is used for the embeddings?\n",
      "Condition: vector, filtering=True, threshold=0.75\n",
      "No results returned.\n",
      "\n",
      "================================================================================\n",
      "Query: What is the process for generating OpenAI embeddings using their JavaScript client and storing them in a Supabase SQL table?\n",
      "Condition: vector, filtering=True, threshold=0.75\n",
      "No results returned.\n",
      "\n",
      "================================================================================\n",
      "Query: How can semantic search be performed over embeddings stored in Supabase Vector using a Postgres function and the Supabase JavaScript client?\n",
      "Condition: vector, filtering=True, threshold=0.75\n",
      "No results returned.\n",
      "\n",
      "================================================================================\n",
      "Query: How can OpenAI's Realtime API be used to build a multi-lingual, one-way translation workflow using WebSockets?\n",
      "Condition: vector, filtering=True, threshold=0.75\n",
      "No results returned.\n",
      "\n",
      "================================================================================\n",
      "Query: What is the high-level architecture of an application that uses the Realtime API for conversational translation, involving a speaker app and a listener app?\n",
      "Condition: vector, filtering=True, threshold=0.75\n",
      "No results returned.\n",
      "\n",
      "================================================================================\n",
      "Query: How are language-specific prompts and sessions managed when using the Realtime API for translating speech into multiple languages simultaneously?\n",
      "Condition: vector, filtering=True, threshold=0.75\n",
      "No results returned.\n",
      "\n",
      "================================================================================\n",
      "Running condition: {'retrieval_method': 'hybrid', 'filtering': False, 'similarity_threshold': 0.5}\n",
      "================================================================================\n",
      "\n",
      "================================================================================\n",
      "Query: How can I use the DALL·E-3 model to generate images, and what are the key differences in parameters compared to DALL·E-2?\n",
      "Condition: hybrid, filtering=False, threshold=0.5\n",
      "No results returned.\n",
      "\n",
      "================================================================================\n",
      "Query: What are the new features introduced in DALL·E-3, such as `style` and `quality` parameters, and how do they affect image generation?\n",
      "Condition: hybrid, filtering=False, threshold=0.5\n",
      "No results returned.\n",
      "\n",
      "================================================================================\n",
      "Query: Can you provide an example of how to build an agent using the Node.js SDK that can determine a user's location and current weather to suggest activities?\n",
      "Condition: hybrid, filtering=False, threshold=0.5\n",
      "\n",
      "Top result (similarity score: 0.5510):\n",
      "--------------------------------------------------\n",
      "js) for Solution 1 and [this file](https://github.com/openai/openai-cookbook/blob/main/examples/chatgpt/sharepoint_azure_function/solution_two_preprocessing.js) for Solution 2.  Save the function. \n",
      "\n",
      "\n",
      "> **This code is meant to be directional** - while it should work out of the box, it is designed to ...\n",
      "--------------------------------------------------\n"
     ]
    },
    {
     "name": "stdin",
     "output_type": "stream",
     "text": [
      "\n",
      "Relevance score (1-5):  1\n",
      "Justification for score:  1\n"
     ]
    },
    {
     "name": "stdout",
     "output_type": "stream",
     "text": [
      "\n",
      "================================================================================\n",
      "Query: What steps are involved in setting up a Supabase Vector database to store and query OpenAI embeddings for semantic search?\n",
      "Condition: hybrid, filtering=False, threshold=0.5\n",
      "\n",
      "Top result (similarity score: 0.7640):\n",
      "--------------------------------------------------\n",
      "# Supabase Vector Database\n",
      "\n",
      "[Supabase](https://supabase.com/docs) is an open-source Firebase alternative built on top of [Postgres](https://en.wikipedia.org/wiki/PostgreSQL), a production-grade SQL database.\n",
      "\n",
      "[Supabase Vector](https://supabase.com/docs/guides/ai) is a vector toolkit built on [pgvect...\n",
      "--------------------------------------------------\n"
     ]
    },
    {
     "name": "stdin",
     "output_type": "stream",
     "text": [
      "\n",
      "Relevance score (1-5):  2\n",
      "Justification for score:  2\n"
     ]
    },
    {
     "name": "stdout",
     "output_type": "stream",
     "text": [
      "\n",
      "================================================================================\n",
      "Query: How do you create a SQL table in Supabase that is suitable for storing vector embeddings, and what data type is used for the embeddings?\n",
      "Condition: hybrid, filtering=False, threshold=0.5\n",
      "\n",
      "Top result (similarity score: 0.7192):\n",
      "--------------------------------------------------\n",
      "# Supabase Vector Database\n",
      "\n",
      "[Supabase](https://supabase.com/docs) is an open-source Firebase alternative built on top of [Postgres](https://en.wikipedia.org/wiki/PostgreSQL), a production-grade SQL database.\n",
      "\n",
      "[Supabase Vector](https://supabase.com/docs/guides/ai) is a vector toolkit built on [pgvect...\n",
      "--------------------------------------------------\n"
     ]
    },
    {
     "name": "stdin",
     "output_type": "stream",
     "text": [
      "\n",
      "Relevance score (1-5):  2\n",
      "Justification for score:  2\n"
     ]
    },
    {
     "name": "stdout",
     "output_type": "stream",
     "text": [
      "\n",
      "================================================================================\n",
      "Query: What is the process for generating OpenAI embeddings using their JavaScript client and storing them in a Supabase SQL table?\n",
      "Condition: hybrid, filtering=False, threshold=0.5\n",
      "\n",
      "Top result (similarity score: 0.6490):\n",
      "--------------------------------------------------\n",
      "# Supabase Vector Database\n",
      "\n",
      "[Supabase](https://supabase.com/docs) is an open-source Firebase alternative built on top of [Postgres](https://en.wikipedia.org/wiki/PostgreSQL), a production-grade SQL database.\n",
      "\n",
      "[Supabase Vector](https://supabase.com/docs/guides/ai) is a vector toolkit built on [pgvect...\n",
      "--------------------------------------------------\n"
     ]
    },
    {
     "name": "stdin",
     "output_type": "stream",
     "text": [
      "\n",
      "Relevance score (1-5):  2\n",
      "Justification for score:  2\n"
     ]
    },
    {
     "name": "stdout",
     "output_type": "stream",
     "text": [
      "\n",
      "================================================================================\n",
      "Query: How can semantic search be performed over embeddings stored in Supabase Vector using a Postgres function and the Supabase JavaScript client?\n",
      "Condition: hybrid, filtering=False, threshold=0.5\n",
      "\n",
      "Top result (similarity score: 0.6897):\n",
      "--------------------------------------------------\n",
      "# Supabase Vector Database\n",
      "\n",
      "[Supabase](https://supabase.com/docs) is an open-source Firebase alternative built on top of [Postgres](https://en.wikipedia.org/wiki/PostgreSQL), a production-grade SQL database.\n",
      "\n",
      "[Supabase Vector](https://supabase.com/docs/guides/ai) is a vector toolkit built on [pgvect...\n",
      "--------------------------------------------------\n"
     ]
    },
    {
     "name": "stdin",
     "output_type": "stream",
     "text": [
      "\n",
      "Relevance score (1-5):  2\n",
      "Justification for score:  2\n"
     ]
    },
    {
     "name": "stdout",
     "output_type": "stream",
     "text": [
      "\n",
      "================================================================================\n",
      "Query: How can OpenAI's Realtime API be used to build a multi-lingual, one-way translation workflow using WebSockets?\n",
      "Condition: hybrid, filtering=False, threshold=0.5\n",
      "\n",
      "Top result (similarity score: 0.7616):\n",
      "--------------------------------------------------\n",
      "# Translation Demo\n",
      "\n",
      "This project demonstrates how to use the [OpenAI Realtime API](https://platform.openai.com/docs/guides/realtime) to build a one-way translation application with WebSockets. It is implemented using the [Realtime + Websockets integration](https://platform.openai.com/docs/guides/rea...\n",
      "--------------------------------------------------\n"
     ]
    },
    {
     "name": "stdin",
     "output_type": "stream",
     "text": [
      "\n",
      "Relevance score (1-5):  2\n",
      "Justification for score:  2\n"
     ]
    },
    {
     "name": "stdout",
     "output_type": "stream",
     "text": [
      "\n",
      "================================================================================\n",
      "Query: What is the high-level architecture of an application that uses the Realtime API for conversational translation, involving a speaker app and a listener app?\n",
      "Condition: hybrid, filtering=False, threshold=0.5\n",
      "\n",
      "Top result (similarity score: 0.6840):\n",
      "--------------------------------------------------\n",
      "# Translation Demo\n",
      "\n",
      "This project demonstrates how to use the [OpenAI Realtime API](https://platform.openai.com/docs/guides/realtime) to build a one-way translation application with WebSockets. It is implemented using the [Realtime + Websockets integration](https://platform.openai.com/docs/guides/rea...\n",
      "--------------------------------------------------\n"
     ]
    },
    {
     "name": "stdin",
     "output_type": "stream",
     "text": [
      "\n",
      "Relevance score (1-5):  2\n",
      "Justification for score:  2\n"
     ]
    },
    {
     "name": "stdout",
     "output_type": "stream",
     "text": [
      "\n",
      "================================================================================\n",
      "Query: How are language-specific prompts and sessions managed when using the Realtime API for translating speech into multiple languages simultaneously?\n",
      "Condition: hybrid, filtering=False, threshold=0.5\n",
      "\n",
      "Top result (similarity score: 0.6087):\n",
      "--------------------------------------------------\n",
      "# Translation Demo\n",
      "\n",
      "This project demonstrates how to use the [OpenAI Realtime API](https://platform.openai.com/docs/guides/realtime) to build a one-way translation application with WebSockets. It is implemented using the [Realtime + Websockets integration](https://platform.openai.com/docs/guides/rea...\n",
      "--------------------------------------------------\n"
     ]
    },
    {
     "name": "stdin",
     "output_type": "stream",
     "text": [
      "\n",
      "Relevance score (1-5):  2\n",
      "Justification for score:  2\n"
     ]
    },
    {
     "name": "stdout",
     "output_type": "stream",
     "text": [
      "\n",
      "================================================================================\n",
      "Running condition: {'retrieval_method': 'hybrid', 'filtering': False, 'similarity_threshold': 0.75}\n",
      "================================================================================\n",
      "\n",
      "================================================================================\n",
      "Query: How can I use the DALL·E-3 model to generate images, and what are the key differences in parameters compared to DALL·E-2?\n",
      "Condition: hybrid, filtering=False, threshold=0.75\n",
      "No results returned.\n",
      "\n",
      "================================================================================\n",
      "Query: What are the new features introduced in DALL·E-3, such as `style` and `quality` parameters, and how do they affect image generation?\n",
      "Condition: hybrid, filtering=False, threshold=0.75\n",
      "No results returned.\n",
      "\n",
      "================================================================================\n",
      "Query: Can you provide an example of how to build an agent using the Node.js SDK that can determine a user's location and current weather to suggest activities?\n",
      "Condition: hybrid, filtering=False, threshold=0.75\n",
      "No results returned.\n",
      "\n",
      "================================================================================\n",
      "Query: What steps are involved in setting up a Supabase Vector database to store and query OpenAI embeddings for semantic search?\n",
      "Condition: hybrid, filtering=False, threshold=0.75\n",
      "\n",
      "Top result (similarity score: 0.7640):\n",
      "--------------------------------------------------\n",
      "# Supabase Vector Database\n",
      "\n",
      "[Supabase](https://supabase.com/docs) is an open-source Firebase alternative built on top of [Postgres](https://en.wikipedia.org/wiki/PostgreSQL), a production-grade SQL database.\n",
      "\n",
      "[Supabase Vector](https://supabase.com/docs/guides/ai) is a vector toolkit built on [pgvect...\n",
      "--------------------------------------------------\n"
     ]
    },
    {
     "name": "stdin",
     "output_type": "stream",
     "text": [
      "\n",
      "Relevance score (1-5):  2\n",
      "Justification for score:  2\n"
     ]
    },
    {
     "name": "stdout",
     "output_type": "stream",
     "text": [
      "\n",
      "================================================================================\n",
      "Query: How do you create a SQL table in Supabase that is suitable for storing vector embeddings, and what data type is used for the embeddings?\n",
      "Condition: hybrid, filtering=False, threshold=0.75\n",
      "No results returned.\n",
      "\n",
      "================================================================================\n",
      "Query: What is the process for generating OpenAI embeddings using their JavaScript client and storing them in a Supabase SQL table?\n",
      "Condition: hybrid, filtering=False, threshold=0.75\n",
      "No results returned.\n",
      "\n",
      "================================================================================\n",
      "Query: How can semantic search be performed over embeddings stored in Supabase Vector using a Postgres function and the Supabase JavaScript client?\n",
      "Condition: hybrid, filtering=False, threshold=0.75\n",
      "No results returned.\n",
      "\n",
      "================================================================================\n",
      "Query: How can OpenAI's Realtime API be used to build a multi-lingual, one-way translation workflow using WebSockets?\n",
      "Condition: hybrid, filtering=False, threshold=0.75\n",
      "\n",
      "Top result (similarity score: 0.7616):\n",
      "--------------------------------------------------\n",
      "# Translation Demo\n",
      "\n",
      "This project demonstrates how to use the [OpenAI Realtime API](https://platform.openai.com/docs/guides/realtime) to build a one-way translation application with WebSockets. It is implemented using the [Realtime + Websockets integration](https://platform.openai.com/docs/guides/rea...\n",
      "--------------------------------------------------\n"
     ]
    },
    {
     "name": "stdin",
     "output_type": "stream",
     "text": [
      "\n",
      "Relevance score (1-5):  2\n",
      "Justification for score:  2\n"
     ]
    },
    {
     "name": "stdout",
     "output_type": "stream",
     "text": [
      "\n",
      "================================================================================\n",
      "Query: What is the high-level architecture of an application that uses the Realtime API for conversational translation, involving a speaker app and a listener app?\n",
      "Condition: hybrid, filtering=False, threshold=0.75\n",
      "No results returned.\n",
      "\n",
      "================================================================================\n",
      "Query: How are language-specific prompts and sessions managed when using the Realtime API for translating speech into multiple languages simultaneously?\n",
      "Condition: hybrid, filtering=False, threshold=0.75\n",
      "No results returned.\n",
      "\n",
      "================================================================================\n",
      "Running condition: {'retrieval_method': 'hybrid', 'filtering': True, 'similarity_threshold': 0.5}\n",
      "================================================================================\n",
      "\n",
      "================================================================================\n",
      "Query: How can I use the DALL·E-3 model to generate images, and what are the key differences in parameters compared to DALL·E-2?\n",
      "Condition: hybrid, filtering=True, threshold=0.5\n",
      "No results returned.\n",
      "\n",
      "================================================================================\n",
      "Query: What are the new features introduced in DALL·E-3, such as `style` and `quality` parameters, and how do they affect image generation?\n",
      "Condition: hybrid, filtering=True, threshold=0.5\n",
      "No results returned.\n",
      "\n",
      "================================================================================\n",
      "Query: Can you provide an example of how to build an agent using the Node.js SDK that can determine a user's location and current weather to suggest activities?\n",
      "Condition: hybrid, filtering=True, threshold=0.5\n",
      "\n",
      "Top result (similarity score: 0.5510):\n",
      "--------------------------------------------------\n",
      "js) for Solution 1 and [this file](https://github.com/openai/openai-cookbook/blob/main/examples/chatgpt/sharepoint_azure_function/solution_two_preprocessing.js) for Solution 2.  Save the function. \n",
      "\n",
      "\n",
      "> **This code is meant to be directional** - while it should work out of the box, it is designed to ...\n",
      "--------------------------------------------------\n"
     ]
    },
    {
     "name": "stdin",
     "output_type": "stream",
     "text": [
      "\n",
      "Relevance score (1-5):  1\n",
      "Justification for score:  1\n"
     ]
    },
    {
     "name": "stdout",
     "output_type": "stream",
     "text": [
      "\n",
      "================================================================================\n",
      "Query: What steps are involved in setting up a Supabase Vector database to store and query OpenAI embeddings for semantic search?\n",
      "Condition: hybrid, filtering=True, threshold=0.5\n",
      "\n",
      "Top result (similarity score: 0.7640):\n",
      "--------------------------------------------------\n",
      "# Supabase Vector Database\n",
      "\n",
      "[Supabase](https://supabase.com/docs) is an open-source Firebase alternative built on top of [Postgres](https://en.wikipedia.org/wiki/PostgreSQL), a production-grade SQL database.\n",
      "\n",
      "[Supabase Vector](https://supabase.com/docs/guides/ai) is a vector toolkit built on [pgvect...\n",
      "--------------------------------------------------\n"
     ]
    },
    {
     "name": "stdin",
     "output_type": "stream",
     "text": [
      "\n",
      "Relevance score (1-5):  1\n",
      "Justification for score:  1\n"
     ]
    },
    {
     "name": "stdout",
     "output_type": "stream",
     "text": [
      "\n",
      "================================================================================\n",
      "Query: How do you create a SQL table in Supabase that is suitable for storing vector embeddings, and what data type is used for the embeddings?\n",
      "Condition: hybrid, filtering=True, threshold=0.5\n",
      "\n",
      "Top result (similarity score: 0.7192):\n",
      "--------------------------------------------------\n",
      "# Supabase Vector Database\n",
      "\n",
      "[Supabase](https://supabase.com/docs) is an open-source Firebase alternative built on top of [Postgres](https://en.wikipedia.org/wiki/PostgreSQL), a production-grade SQL database.\n",
      "\n",
      "[Supabase Vector](https://supabase.com/docs/guides/ai) is a vector toolkit built on [pgvect...\n",
      "--------------------------------------------------\n"
     ]
    },
    {
     "name": "stdin",
     "output_type": "stream",
     "text": [
      "\n",
      "Relevance score (1-5):  2\n",
      "Justification for score:  2\n"
     ]
    },
    {
     "name": "stdout",
     "output_type": "stream",
     "text": [
      "\n",
      "================================================================================\n",
      "Query: What is the process for generating OpenAI embeddings using their JavaScript client and storing them in a Supabase SQL table?\n",
      "Condition: hybrid, filtering=True, threshold=0.5\n",
      "\n",
      "Top result (similarity score: 0.6490):\n",
      "--------------------------------------------------\n",
      "# Supabase Vector Database\n",
      "\n",
      "[Supabase](https://supabase.com/docs) is an open-source Firebase alternative built on top of [Postgres](https://en.wikipedia.org/wiki/PostgreSQL), a production-grade SQL database.\n",
      "\n",
      "[Supabase Vector](https://supabase.com/docs/guides/ai) is a vector toolkit built on [pgvect...\n",
      "--------------------------------------------------\n"
     ]
    },
    {
     "name": "stdin",
     "output_type": "stream",
     "text": [
      "\n",
      "Relevance score (1-5):  2\n",
      "Justification for score:  2\n"
     ]
    },
    {
     "name": "stdout",
     "output_type": "stream",
     "text": [
      "\n",
      "================================================================================\n",
      "Query: How can semantic search be performed over embeddings stored in Supabase Vector using a Postgres function and the Supabase JavaScript client?\n",
      "Condition: hybrid, filtering=True, threshold=0.5\n",
      "\n",
      "Top result (similarity score: 0.6897):\n",
      "--------------------------------------------------\n",
      "# Supabase Vector Database\n",
      "\n",
      "[Supabase](https://supabase.com/docs) is an open-source Firebase alternative built on top of [Postgres](https://en.wikipedia.org/wiki/PostgreSQL), a production-grade SQL database.\n",
      "\n",
      "[Supabase Vector](https://supabase.com/docs/guides/ai) is a vector toolkit built on [pgvect...\n",
      "--------------------------------------------------\n"
     ]
    },
    {
     "name": "stdin",
     "output_type": "stream",
     "text": [
      "\n",
      "Relevance score (1-5):  2\n",
      "Justification for score:  2\n"
     ]
    },
    {
     "name": "stdout",
     "output_type": "stream",
     "text": [
      "\n",
      "================================================================================\n",
      "Query: How can OpenAI's Realtime API be used to build a multi-lingual, one-way translation workflow using WebSockets?\n",
      "Condition: hybrid, filtering=True, threshold=0.5\n",
      "\n",
      "Top result (similarity score: 0.5599):\n",
      "--------------------------------------------------\n",
      "# How to work with large language models\n",
      "\n",
      "## How large language models work\n",
      "\n",
      "[Large language models][Large language models Blog Post] are functions that map text to text. Given an input string of text, a large language model predicts the text that should come next.\n",
      "\n",
      "The magic of large language model...\n",
      "--------------------------------------------------\n"
     ]
    },
    {
     "name": "stdin",
     "output_type": "stream",
     "text": [
      "\n",
      "Relevance score (1-5):  2\n",
      "Justification for score:  2\n"
     ]
    },
    {
     "name": "stdout",
     "output_type": "stream",
     "text": [
      "\n",
      "================================================================================\n",
      "Query: What is the high-level architecture of an application that uses the Realtime API for conversational translation, involving a speaker app and a listener app?\n",
      "Condition: hybrid, filtering=True, threshold=0.5\n",
      "\n",
      "Top result (similarity score: 0.5366):\n",
      "--------------------------------------------------\n",
      "M apps with data.\n",
      "- [LLMOps Database](https://www.reddit.com/r/LocalLLaMA/comments/1h4u7au/a_nobs_database_of_how_companies_actually_deploy/): Database of how companies actually deploy LLMs in production.\n",
      "- [LMQL](https://lmql.ai): A programming language for LLM interaction with support for typed pr...\n",
      "--------------------------------------------------\n"
     ]
    },
    {
     "name": "stdin",
     "output_type": "stream",
     "text": [
      "\n",
      "Relevance score (1-5):  2\n",
      "Justification for score:  2\n"
     ]
    },
    {
     "name": "stdout",
     "output_type": "stream",
     "text": [
      "\n",
      "================================================================================\n",
      "Query: How are language-specific prompts and sessions managed when using the Realtime API for translating speech into multiple languages simultaneously?\n",
      "Condition: hybrid, filtering=True, threshold=0.5\n",
      "\n",
      "Top result (similarity score: 0.5945):\n",
      "--------------------------------------------------\n",
      "# How to work with large language models\n",
      "\n",
      "## How large language models work\n",
      "\n",
      "[Large language models][Large language models Blog Post] are functions that map text to text. Given an input string of text, a large language model predicts the text that should come next.\n",
      "\n",
      "The magic of large language model...\n",
      "--------------------------------------------------\n"
     ]
    },
    {
     "name": "stdin",
     "output_type": "stream",
     "text": [
      "\n",
      "Relevance score (1-5):  1\n",
      "Justification for score:  1\n"
     ]
    },
    {
     "name": "stdout",
     "output_type": "stream",
     "text": [
      "\n",
      "================================================================================\n",
      "Running condition: {'retrieval_method': 'hybrid', 'filtering': True, 'similarity_threshold': 0.75}\n",
      "================================================================================\n",
      "\n",
      "================================================================================\n",
      "Query: How can I use the DALL·E-3 model to generate images, and what are the key differences in parameters compared to DALL·E-2?\n",
      "Condition: hybrid, filtering=True, threshold=0.75\n",
      "No results returned.\n",
      "\n",
      "================================================================================\n",
      "Query: What are the new features introduced in DALL·E-3, such as `style` and `quality` parameters, and how do they affect image generation?\n",
      "Condition: hybrid, filtering=True, threshold=0.75\n",
      "No results returned.\n",
      "\n",
      "================================================================================\n",
      "Query: Can you provide an example of how to build an agent using the Node.js SDK that can determine a user's location and current weather to suggest activities?\n",
      "Condition: hybrid, filtering=True, threshold=0.75\n",
      "No results returned.\n",
      "\n",
      "================================================================================\n",
      "Query: What steps are involved in setting up a Supabase Vector database to store and query OpenAI embeddings for semantic search?\n",
      "Condition: hybrid, filtering=True, threshold=0.75\n",
      "\n",
      "Top result (similarity score: 0.7640):\n",
      "--------------------------------------------------\n",
      "# Supabase Vector Database\n",
      "\n",
      "[Supabase](https://supabase.com/docs) is an open-source Firebase alternative built on top of [Postgres](https://en.wikipedia.org/wiki/PostgreSQL), a production-grade SQL database.\n",
      "\n",
      "[Supabase Vector](https://supabase.com/docs/guides/ai) is a vector toolkit built on [pgvect...\n",
      "--------------------------------------------------\n"
     ]
    },
    {
     "name": "stdin",
     "output_type": "stream",
     "text": [
      "\n",
      "Relevance score (1-5):  2\n",
      "Justification for score:  2\n"
     ]
    },
    {
     "name": "stdout",
     "output_type": "stream",
     "text": [
      "\n",
      "================================================================================\n",
      "Query: How do you create a SQL table in Supabase that is suitable for storing vector embeddings, and what data type is used for the embeddings?\n",
      "Condition: hybrid, filtering=True, threshold=0.75\n",
      "No results returned.\n",
      "\n",
      "================================================================================\n",
      "Query: What is the process for generating OpenAI embeddings using their JavaScript client and storing them in a Supabase SQL table?\n",
      "Condition: hybrid, filtering=True, threshold=0.75\n",
      "No results returned.\n",
      "\n",
      "================================================================================\n",
      "Query: How can semantic search be performed over embeddings stored in Supabase Vector using a Postgres function and the Supabase JavaScript client?\n",
      "Condition: hybrid, filtering=True, threshold=0.75\n",
      "No results returned.\n",
      "\n",
      "================================================================================\n",
      "Query: How can OpenAI's Realtime API be used to build a multi-lingual, one-way translation workflow using WebSockets?\n",
      "Condition: hybrid, filtering=True, threshold=0.75\n",
      "No results returned.\n",
      "\n",
      "================================================================================\n",
      "Query: What is the high-level architecture of an application that uses the Realtime API for conversational translation, involving a speaker app and a listener app?\n",
      "Condition: hybrid, filtering=True, threshold=0.75\n",
      "No results returned.\n",
      "\n",
      "================================================================================\n",
      "Query: How are language-specific prompts and sessions managed when using the Realtime API for translating speech into multiple languages simultaneously?\n",
      "Condition: hybrid, filtering=True, threshold=0.75\n",
      "No results returned.\n",
      "\n",
      "Experiment complete! Collected 38 evaluations.\n"
     ]
    }
   ],
   "source": [
    "# Execute the experiment\n",
    "experiment_results = []\n",
    "\n",
    "for condition in factorial_design:\n",
    "    print(\"\\n\" + \"=\"*80)\n",
    "    print(f\"Running condition: {condition}\")\n",
    "    print(\"=\"*80)\n",
    "    \n",
    "    condition_results = evaluate_condition(\n",
    "        retrieval_method=condition[\"retrieval_method\"],\n",
    "        filtering=condition[\"filtering\"],\n",
    "        similarity_threshold=condition[\"similarity_threshold\"],\n",
    "        test_queries=test_queries\n",
    "    )\n",
    "    experiment_results.append(condition_results)\n",
    "\n",
    "# Combine all results\n",
    "all_results = pd.concat(experiment_results)\n",
    "\n",
    "# Save to CSV\n",
    "all_results.to_csv(\"rag_doe_factorial_results.csv\", index=False)\n",
    "\n",
    "print(f\"\\nExperiment complete! Collected {len(all_results)} evaluations.\")"
   ]
  },
  {
   "cell_type": "markdown",
   "id": "2f1a5184",
   "metadata": {},
   "source": [
    "## 10. Analyze Results\n",
    "\n",
    "Let's analyze the results to identify the main effects and interactions."
   ]
  },
  {
   "cell_type": "code",
   "execution_count": 32,
   "id": "04b1dcf8",
   "metadata": {},
   "outputs": [
    {
     "name": "stdout",
     "output_type": "stream",
     "text": [
      "Main Effects (Average Score):\n",
      "\n",
      "Retrieval Method:\n",
      "retrieval_method\n",
      "hybrid    1.789474\n",
      "vector    1.947368\n",
      "Name: human_score, dtype: float64\n",
      "\n",
      "Filtering:\n",
      "filtering\n",
      "False    2.050000\n",
      "True     1.666667\n",
      "Name: human_score, dtype: float64\n",
      "\n",
      "Similarity Threshold:\n",
      "similarity_threshold\n",
      "0.50    1.84375\n",
      "0.75    2.00000\n",
      "Name: human_score, dtype: float64\n"
     ]
    }
   ],
   "source": [
    "# Calculate main effects\n",
    "main_effects = {\n",
    "    \"Retrieval Method\": all_results.groupby(\"retrieval_method\")[\"human_score\"].mean(),\n",
    "    \"Filtering\": all_results.groupby(\"filtering\")[\"human_score\"].mean(),\n",
    "    \"Similarity Threshold\": all_results.groupby(\"similarity_threshold\")[\"human_score\"].mean()\n",
    "}\n",
    "\n",
    "# Show main effects\n",
    "print(\"Main Effects (Average Score):\")\n",
    "for factor, scores in main_effects.items():\n",
    "    print(f\"\\n{factor}:\")\n",
    "    print(scores)"
   ]
  },
  {
   "cell_type": "code",
   "execution_count": 33,
   "id": "62584d3b",
   "metadata": {},
   "outputs": [
    {
     "data": {
      "image/png": "[encoded data removed]",
      "text/plain": [
       "<Figure size 1800x500 with 3 Axes>"
      ]
     },
     "metadata": {},
     "output_type": "display_data"
    }
   ],
   "source": [
    "# Visualize main effects\n",
    "fig, axes = plt.subplots(1, 3, figsize=(18, 5))\n",
    "\n",
    "for i, (factor, data) in enumerate(main_effects.items()):\n",
    "    axes[i].bar(data.index.astype(str), data.values)\n",
    "    axes[i].set_title(f\"Main Effect: {factor}\")\n",
    "    axes[i].set_ylabel(\"Average Relevance Score\")\n",
    "    axes[i].set_ylim(1, 5)  # Set y-axis to score range\n",
    "\n",
    "plt.tight_layout()\n",
    "plt.savefig(\"main_effects.png\")\n",
    "plt.show()"
   ]
  },
  {
   "cell_type": "code",
   "execution_count": 34,
   "id": "130fa4b9",
   "metadata": {},
   "outputs": [
    {
     "name": "stdout",
     "output_type": "stream",
     "text": [
      "Interaction Effects (Average Score):\n",
      "\n",
      "Retrieval × Filtering:\n",
      "filtering         False     True \n",
      "retrieval_method                 \n",
      "hybrid              1.9  1.666667\n",
      "vector              2.2  1.666667\n",
      "\n",
      "Retrieval × Threshold:\n",
      "similarity_threshold    0.50  0.75\n",
      "retrieval_method                  \n",
      "hybrid                1.7500   2.0\n",
      "vector                1.9375   2.0\n",
      "\n",
      "Filtering × Threshold:\n",
      "similarity_threshold    0.50  0.75\n",
      "filtering                         \n",
      "False                 2.0625   2.0\n",
      "True                  1.6250   2.0\n"
     ]
    }
   ],
   "source": [
    "# Calculate interaction effects\n",
    "interactions = {\n",
    "    \"Retrieval × Filtering\": all_results.groupby([\"retrieval_method\", \"filtering\"])[\"human_score\"].mean().unstack(),\n",
    "    \"Retrieval × Threshold\": all_results.groupby([\"retrieval_method\", \"similarity_threshold\"])[\"human_score\"].mean().unstack(),\n",
    "    \"Filtering × Threshold\": all_results.groupby([\"filtering\", \"similarity_threshold\"])[\"human_score\"].mean().unstack()\n",
    "}\n",
    "\n",
    "# Show interaction effects\n",
    "print(\"Interaction Effects (Average Score):\")\n",
    "for interaction, data in interactions.items():\n",
    "    print(f\"\\n{interaction}:\")\n",
    "    print(data)"
   ]
  },
  {
   "cell_type": "code",
   "execution_count": 35,
   "id": "1730aed2",
   "metadata": {},
   "outputs": [
    {
     "data": {
      "image/png": "[encoded data removed]",
      "text/plain": [
       "<Figure size 1800x500 with 3 Axes>"
      ]
     },
     "metadata": {},
     "output_type": "display_data"
    }
   ],
   "source": [
    "# Visualize interaction effects\n",
    "fig, axes = plt.subplots(1, 3, figsize=(18, 5))\n",
    "\n",
    "for i, (interaction, data) in enumerate(interactions.items()):\n",
    "    data.plot(kind='bar', ax=axes[i])\n",
    "    axes[i].set_title(f\"Interaction: {interaction}\")\n",
    "    axes[i].set_ylabel(\"Average Relevance Score\")\n",
    "    axes[i].set_ylim(1, 5)  # Set y-axis to score range\n",
    "\n",
    "plt.tight_layout()\n",
    "plt.savefig(\"interaction_effects.png\")\n",
    "plt.show()"
   ]
  },
  {
   "cell_type": "markdown",
   "id": "885dd132",
   "metadata": {},
   "source": [
    "## 11. Create Gold Dataset\n",
    "\n",
    "Let's create a gold dataset with high-quality examples for future reference."
   ]
  },
  {
   "cell_type": "code",
   "execution_count": 36,
   "id": "67c99e25",
   "metadata": {},
   "outputs": [
    {
     "name": "stdout",
     "output_type": "stream",
     "text": [
      "Gold Dataset contains 1 high-quality examples out of 38 total.\n",
      "Distribution by factor:\n",
      "- Retrieval method: {'vector': 1}\n",
      "- Filtering: {False: 1}\n",
      "- Similarity threshold: {0.5: 1}\n"
     ]
    }
   ],
   "source": [
    "# Create Gold dataset (examples with score >= 4)\n",
    "gold_dataset = all_results[all_results[\"human_score\"] >= 4].copy()\n",
    "gold_dataset[\"is_gold\"] = True\n",
    "\n",
    "# Print summary of Gold dataset\n",
    "print(f\"Gold Dataset contains {len(gold_dataset)} high-quality examples out of {len(all_results)} total.\")\n",
    "print(f\"Distribution by factor:\")\n",
    "print(f\"- Retrieval method: {gold_dataset['retrieval_method'].value_counts().to_dict()}\")\n",
    "print(f\"- Filtering: {gold_dataset['filtering'].value_counts().to_dict()}\")\n",
    "print(f\"- Similarity threshold: {gold_dataset['similarity_threshold'].value_counts().to_dict()}\")\n",
    "\n",
    "# Save Gold dataset for future experiments\n",
    "gold_dataset.to_csv(\"rag_gold_dataset.csv\", index=False)"
   ]
  },
  {
   "cell_type": "markdown",
   "id": "fa6d3239",
   "metadata": {},
   "source": [
    "## 12. Summarize Findings\n",
    "\n",
    "Let's summarize the key findings from our experiment."
   ]
  },
  {
   "cell_type": "code",
   "execution_count": 37,
   "id": "6a0d8f6a",
   "metadata": {},
   "outputs": [
    {
     "name": "stdout",
     "output_type": "stream",
     "text": [
      "Best performing condition:\n",
      "- retrieval_method: vector\n",
      "- filtering: False\n",
      "- similarity_threshold: 0.5\n",
      "- human_score: 2.25\n",
      "\n",
      "Worst performing condition:\n",
      "- retrieval_method: hybrid\n",
      "- filtering: True\n",
      "- similarity_threshold: 0.5\n",
      "- human_score: 1.625\n",
      "\n",
      "Factor importance (range of effect):\n",
      "- Filtering: 0.38\n",
      "- Retrieval Method: 0.16\n",
      "- Similarity Threshold: 0.16\n"
     ]
    }
   ],
   "source": [
    "# Identify best and worst conditions\n",
    "condition_performance = all_results.groupby([\n",
    "    \"retrieval_method\", \"filtering\", \"similarity_threshold\"\n",
    "])[\"human_score\"].mean().reset_index()\n",
    "\n",
    "best_condition = condition_performance.loc[condition_performance[\"human_score\"].idxmax()]\n",
    "worst_condition = condition_performance.loc[condition_performance[\"human_score\"].idxmin()]\n",
    "\n",
    "print(\"Best performing condition:\")\n",
    "for col in best_condition.index:\n",
    "    print(f\"- {col}: {best_condition[col]}\")\n",
    "\n",
    "print(\"\\nWorst performing condition:\")\n",
    "for col in worst_condition.index:\n",
    "    print(f\"- {col}: {worst_condition[col]}\")\n",
    "\n",
    "# Calculate overall factor importance\n",
    "factor_importance = {}\n",
    "for factor, effect in main_effects.items():\n",
    "    factor_importance[factor] = effect.max() - effect.min()\n",
    "\n",
    "print(\"\\nFactor importance (range of effect):\")\n",
    "for factor, importance in sorted(factor_importance.items(), key=lambda x: x[1], reverse=True):\n",
    "    print(f\"- {factor}: {importance:.2f}\")"
   ]
  },
  {
   "cell_type": "markdown",
   "id": "f5e16a13",
   "metadata": {},
   "source": [
    "## 13. Conclusion\n",
    "\n",
    "In this notebook, we've:\n",
    "\n",
    "1. Set up a RAG system using ChromaDB and OpenAI embeddings\n",
    "2. Designed and executed a full factorial experiment to test retrieval factors\n",
    "3. Analyzed the main effects and interactions between factors\n",
    "4. Created a gold dataset with relevance justifications\n",
    "\n",
    "The results help us understand which factors most significantly impact retrieval quality and provide guidance for optimizing our RAG system."
   ]
  }
 ],
 "metadata": {
  "jupytext": {
   "cell_metadata_filter": "-all",
   "main_language": "python",
   "notebook_metadata_filter": "-all"
  },
  "kernelspec": {
   "display_name": "Python 3 (ipykernel)",
   "language": "python",
   "name": "python3"
  },
  "language_info": {
   "codemirror_mode": {
    "name": "ipython",
    "version": 3
   },
   "file_extension": ".py",
   "mimetype": "text/x-python",
   "name": "python",
   "nbconvert_exporter": "python",
   "pygments_lexer": "ipython3",
   "version": "3.11.5"
  }
 },
 "nbformat": 4,
 "nbformat_minor": 5
}
